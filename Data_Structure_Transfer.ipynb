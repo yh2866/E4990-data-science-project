{
 "cells": [
  {
   "cell_type": "code",
   "execution_count": 31,
   "metadata": {
    "collapsed": false,
    "scrolled": false
   },
   "outputs": [
    {
     "name": "stdout",
     "output_type": "stream",
     "text": [
      "0       1\n",
      "1       5\n",
      "2       6\n",
      "3       7\n",
      "4       9\n",
      "5      10\n",
      "6      13\n",
      "7      14\n",
      "8      17\n",
      "9      18\n",
      "10     19\n",
      "11     20\n",
      "12     21\n",
      "13     22\n",
      "14     23\n",
      "15     24\n",
      "16     25\n",
      "17     26\n",
      "18     28\n",
      "19     29\n",
      "20     30\n",
      "21     32\n",
      "22     33\n",
      "23     34\n",
      "24      1\n",
      "25      5\n",
      "26      6\n",
      "27      7\n",
      "28      9\n",
      "29     10\n",
      "       ..\n",
      "644    24\n",
      "645    25\n",
      "646    26\n",
      "647    28\n",
      "648    30\n",
      "649    32\n",
      "650    33\n",
      "651    34\n",
      "652     1\n",
      "653     5\n",
      "654     6\n",
      "655     7\n",
      "656     9\n",
      "657    10\n",
      "658    13\n",
      "659    14\n",
      "660    17\n",
      "661    18\n",
      "662    19\n",
      "663    20\n",
      "664    22\n",
      "665    23\n",
      "666    24\n",
      "667    25\n",
      "668    26\n",
      "669    28\n",
      "670    30\n",
      "671    32\n",
      "672    33\n",
      "673    34\n",
      "Name: PCT, dtype: int64\n"
     ]
    }
   ],
   "source": [
    "df =pd.read_csv('out.csv')\n",
    "df.head()\n",
    "Day = df['Day']\n",
    "Time = df['Time']\n",
    "Freq = df['Freq']\n",
    "PCT = df['PCT']\n",
    "\n",
    "#for (j,N) in enumerate([32,64,128,256]):"
   ]
  },
  {
   "cell_type": "code",
   "execution_count": null,
   "metadata": {
    "collapsed": true
   },
   "outputs": [],
   "source": []
  }
 ],
 "metadata": {
  "anaconda-cloud": {},
  "kernelspec": {
   "display_name": "Python [Root]",
   "language": "python",
   "name": "Python [Root]"
  },
  "language_info": {
   "codemirror_mode": {
    "name": "ipython",
    "version": 2
   },
   "file_extension": ".py",
   "mimetype": "text/x-python",
   "name": "python",
   "nbconvert_exporter": "python",
   "pygments_lexer": "ipython2",
   "version": "2.7.12"
  }
 },
 "nbformat": 4,
 "nbformat_minor": 0
}
