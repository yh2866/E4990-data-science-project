{
 "cells": [
  {
   "cell_type": "code",
   "execution_count": 1,
   "metadata": {
    "collapsed": false
   },
   "outputs": [
    {
     "data": {
      "text/html": [
       "<div>\n",
       "<table border=\"1\" class=\"dataframe\">\n",
       "  <thead>\n",
       "    <tr style=\"text-align: right;\">\n",
       "      <th></th>\n",
       "      <th>CMPLNT_NUM</th>\n",
       "      <th>CMPLNT_FR_DT</th>\n",
       "      <th>CMPLNT_FR_TM</th>\n",
       "      <th>CMPLNT_TO_DT</th>\n",
       "      <th>CMPLNT_TO_TM</th>\n",
       "      <th>RPT_DT</th>\n",
       "      <th>KY_CD</th>\n",
       "      <th>OFNS_DESC</th>\n",
       "      <th>PD_CD</th>\n",
       "      <th>PD_DESC</th>\n",
       "      <th>...</th>\n",
       "      <th>ADDR_PCT_CD</th>\n",
       "      <th>LOC_OF_OCCUR_DESC</th>\n",
       "      <th>PREM_TYP_DESC</th>\n",
       "      <th>PARKS_NM</th>\n",
       "      <th>HADEVELOPT</th>\n",
       "      <th>X_COORD_CD</th>\n",
       "      <th>Y_COORD_CD</th>\n",
       "      <th>Latitude</th>\n",
       "      <th>Longitude</th>\n",
       "      <th>Lat_Lon</th>\n",
       "    </tr>\n",
       "  </thead>\n",
       "  <tbody>\n",
       "    <tr>\n",
       "      <th>0</th>\n",
       "      <td>394278393</td>\n",
       "      <td>1/1/15</td>\n",
       "      <td>9:00:00</td>\n",
       "      <td>4/15/16</td>\n",
       "      <td>8:30:00</td>\n",
       "      <td>4/15/16</td>\n",
       "      <td>340</td>\n",
       "      <td>FRAUDS</td>\n",
       "      <td>718.0</td>\n",
       "      <td>FRAUD,UNCLASSIFIED-MISDEMEANOR</td>\n",
       "      <td>...</td>\n",
       "      <td>41</td>\n",
       "      <td>INSIDE</td>\n",
       "      <td>RESIDENCE - APT. HOUSE</td>\n",
       "      <td>NaN</td>\n",
       "      <td>NaN</td>\n",
       "      <td>1015226.0</td>\n",
       "      <td>239233.0</td>\n",
       "      <td>40.823269</td>\n",
       "      <td>-73.888081</td>\n",
       "      <td>(40.823268829, -73.888081)</td>\n",
       "    </tr>\n",
       "    <tr>\n",
       "      <th>1</th>\n",
       "      <td>722254800</td>\n",
       "      <td>1/1/15</td>\n",
       "      <td>0:01:00</td>\n",
       "      <td>6/11/16</td>\n",
       "      <td>20:15:00</td>\n",
       "      <td>4/10/16</td>\n",
       "      <td>116</td>\n",
       "      <td>SEX CRIMES</td>\n",
       "      <td>168.0</td>\n",
       "      <td>SODOMY 1</td>\n",
       "      <td>...</td>\n",
       "      <td>77</td>\n",
       "      <td>INSIDE</td>\n",
       "      <td>RESIDENCE - APT. HOUSE</td>\n",
       "      <td>NaN</td>\n",
       "      <td>NaN</td>\n",
       "      <td>997245.0</td>\n",
       "      <td>204130.0</td>\n",
       "      <td>40.726965</td>\n",
       "      <td>-73.953117</td>\n",
       "      <td>(40.726965067, -73.953116629)</td>\n",
       "    </tr>\n",
       "    <tr>\n",
       "      <th>2</th>\n",
       "      <td>530381050</td>\n",
       "      <td>1/1/15</td>\n",
       "      <td>0:00:00</td>\n",
       "      <td>4/2/16</td>\n",
       "      <td>14:00:00</td>\n",
       "      <td>4/2/16</td>\n",
       "      <td>578</td>\n",
       "      <td>HARRASSMENT 2</td>\n",
       "      <td>638.0</td>\n",
       "      <td>HARASSMENT,SUBD 3,4,5</td>\n",
       "      <td>...</td>\n",
       "      <td>47</td>\n",
       "      <td>INSIDE</td>\n",
       "      <td>RESIDENCE - APT. HOUSE</td>\n",
       "      <td>NaN</td>\n",
       "      <td>NaN</td>\n",
       "      <td>1023381.0</td>\n",
       "      <td>256426.0</td>\n",
       "      <td>40.870426</td>\n",
       "      <td>-73.858516</td>\n",
       "      <td>(40.870426138, -73.858515601)</td>\n",
       "    </tr>\n",
       "    <tr>\n",
       "      <th>3</th>\n",
       "      <td>429186741</td>\n",
       "      <td>1/1/15</td>\n",
       "      <td>12:00:00</td>\n",
       "      <td>3/16/16</td>\n",
       "      <td>16:00:00</td>\n",
       "      <td>3/29/16</td>\n",
       "      <td>112</td>\n",
       "      <td>THEFT-FRAUD</td>\n",
       "      <td>739.0</td>\n",
       "      <td>FRAUD,UNCLASSIFIED-FELONY</td>\n",
       "      <td>...</td>\n",
       "      <td>50</td>\n",
       "      <td>INSIDE</td>\n",
       "      <td>RESIDENCE - PUBLIC HOUSING</td>\n",
       "      <td>NaN</td>\n",
       "      <td>FORT INDEPENDENCE STREET-HEATH AVENUE</td>\n",
       "      <td>1011678.0</td>\n",
       "      <td>259907.0</td>\n",
       "      <td>40.880025</td>\n",
       "      <td>-73.900816</td>\n",
       "      <td>(40.880024527, -73.900815814)</td>\n",
       "    </tr>\n",
       "    <tr>\n",
       "      <th>4</th>\n",
       "      <td>388921549</td>\n",
       "      <td>1/1/15</td>\n",
       "      <td>0:01:00</td>\n",
       "      <td>5/30/16</td>\n",
       "      <td>19:29:00</td>\n",
       "      <td>3/28/16</td>\n",
       "      <td>340</td>\n",
       "      <td>FRAUDS</td>\n",
       "      <td>718.0</td>\n",
       "      <td>FRAUD,UNCLASSIFIED-MISDEMEANOR</td>\n",
       "      <td>...</td>\n",
       "      <td>88</td>\n",
       "      <td>INSIDE</td>\n",
       "      <td>RESIDENCE - PUBLIC HOUSING</td>\n",
       "      <td>ROBERT E. VENABLE PARK</td>\n",
       "      <td>INGERSOLL</td>\n",
       "      <td>989561.0</td>\n",
       "      <td>192267.0</td>\n",
       "      <td>40.694412</td>\n",
       "      <td>-73.980849</td>\n",
       "      <td>(40.694411894, -73.980849181)</td>\n",
       "    </tr>\n",
       "  </tbody>\n",
       "</table>\n",
       "<p>5 rows × 24 columns</p>\n",
       "</div>"
      ],
      "text/plain": [
       "   CMPLNT_NUM CMPLNT_FR_DT CMPLNT_FR_TM CMPLNT_TO_DT CMPLNT_TO_TM   RPT_DT  \\\n",
       "0   394278393       1/1/15      9:00:00      4/15/16      8:30:00  4/15/16   \n",
       "1   722254800       1/1/15      0:01:00      6/11/16     20:15:00  4/10/16   \n",
       "2   530381050       1/1/15      0:00:00       4/2/16     14:00:00   4/2/16   \n",
       "3   429186741       1/1/15     12:00:00      3/16/16     16:00:00  3/29/16   \n",
       "4   388921549       1/1/15      0:01:00      5/30/16     19:29:00  3/28/16   \n",
       "\n",
       "   KY_CD      OFNS_DESC  PD_CD                         PD_DESC  \\\n",
       "0    340         FRAUDS  718.0  FRAUD,UNCLASSIFIED-MISDEMEANOR   \n",
       "1    116     SEX CRIMES  168.0                        SODOMY 1   \n",
       "2    578  HARRASSMENT 2  638.0           HARASSMENT,SUBD 3,4,5   \n",
       "3    112    THEFT-FRAUD  739.0       FRAUD,UNCLASSIFIED-FELONY   \n",
       "4    340         FRAUDS  718.0  FRAUD,UNCLASSIFIED-MISDEMEANOR   \n",
       "\n",
       "               ...               ADDR_PCT_CD LOC_OF_OCCUR_DESC  \\\n",
       "0              ...                        41            INSIDE   \n",
       "1              ...                        77            INSIDE   \n",
       "2              ...                        47            INSIDE   \n",
       "3              ...                        50            INSIDE   \n",
       "4              ...                        88            INSIDE   \n",
       "\n",
       "                PREM_TYP_DESC                PARKS_NM  \\\n",
       "0      RESIDENCE - APT. HOUSE                     NaN   \n",
       "1      RESIDENCE - APT. HOUSE                     NaN   \n",
       "2      RESIDENCE - APT. HOUSE                     NaN   \n",
       "3  RESIDENCE - PUBLIC HOUSING                     NaN   \n",
       "4  RESIDENCE - PUBLIC HOUSING  ROBERT E. VENABLE PARK   \n",
       "\n",
       "                              HADEVELOPT X_COORD_CD Y_COORD_CD   Latitude  \\\n",
       "0                                    NaN  1015226.0   239233.0  40.823269   \n",
       "1                                    NaN   997245.0   204130.0  40.726965   \n",
       "2                                    NaN  1023381.0   256426.0  40.870426   \n",
       "3  FORT INDEPENDENCE STREET-HEATH AVENUE  1011678.0   259907.0  40.880025   \n",
       "4                              INGERSOLL   989561.0   192267.0  40.694412   \n",
       "\n",
       "   Longitude                        Lat_Lon  \n",
       "0 -73.888081     (40.823268829, -73.888081)  \n",
       "1 -73.953117  (40.726965067, -73.953116629)  \n",
       "2 -73.858516  (40.870426138, -73.858515601)  \n",
       "3 -73.900816  (40.880024527, -73.900815814)  \n",
       "4 -73.980849  (40.694411894, -73.980849181)  \n",
       "\n",
       "[5 rows x 24 columns]"
      ]
     },
     "execution_count": 1,
     "metadata": {},
     "output_type": "execute_result"
    }
   ],
   "source": [
    "import pandas as pd\n",
    "df =pd.read_csv('NYPD_Data.csv')\n",
    "df.head()"
   ]
  },
  {
   "cell_type": "code",
   "execution_count": 2,
   "metadata": {
    "collapsed": false
   },
   "outputs": [
    {
     "data": {
      "text/html": [
       "<div>\n",
       "<table border=\"1\" class=\"dataframe\">\n",
       "  <thead>\n",
       "    <tr style=\"text-align: right;\">\n",
       "      <th></th>\n",
       "      <th>CMPLNT_NUM</th>\n",
       "      <th>CMPLNT_FR_DT</th>\n",
       "      <th>CMPLNT_FR_TM</th>\n",
       "      <th>ADDR_PCT_CD</th>\n",
       "    </tr>\n",
       "  </thead>\n",
       "  <tbody>\n",
       "    <tr>\n",
       "      <th>0</th>\n",
       "      <td>394278393</td>\n",
       "      <td>1/1/15</td>\n",
       "      <td>9:00:00</td>\n",
       "      <td>41</td>\n",
       "    </tr>\n",
       "    <tr>\n",
       "      <th>1</th>\n",
       "      <td>722254800</td>\n",
       "      <td>1/1/15</td>\n",
       "      <td>0:01:00</td>\n",
       "      <td>77</td>\n",
       "    </tr>\n",
       "    <tr>\n",
       "      <th>2</th>\n",
       "      <td>530381050</td>\n",
       "      <td>1/1/15</td>\n",
       "      <td>0:00:00</td>\n",
       "      <td>47</td>\n",
       "    </tr>\n",
       "    <tr>\n",
       "      <th>3</th>\n",
       "      <td>429186741</td>\n",
       "      <td>1/1/15</td>\n",
       "      <td>12:00:00</td>\n",
       "      <td>50</td>\n",
       "    </tr>\n",
       "    <tr>\n",
       "      <th>4</th>\n",
       "      <td>388921549</td>\n",
       "      <td>1/1/15</td>\n",
       "      <td>0:01:00</td>\n",
       "      <td>88</td>\n",
       "    </tr>\n",
       "  </tbody>\n",
       "</table>\n",
       "</div>"
      ],
      "text/plain": [
       "   CMPLNT_NUM CMPLNT_FR_DT CMPLNT_FR_TM  ADDR_PCT_CD\n",
       "0   394278393       1/1/15      9:00:00           41\n",
       "1   722254800       1/1/15      0:01:00           77\n",
       "2   530381050       1/1/15      0:00:00           47\n",
       "3   429186741       1/1/15     12:00:00           50\n",
       "4   388921549       1/1/15      0:01:00           88"
      ]
     },
     "execution_count": 2,
     "metadata": {},
     "output_type": "execute_result"
    }
   ],
   "source": [
    "df_=df[['CMPLNT_NUM', 'CMPLNT_FR_DT', 'CMPLNT_FR_TM', 'ADDR_PCT_CD']]\n",
    "df_.head()"
   ]
  },
  {
   "cell_type": "code",
   "execution_count": 15,
   "metadata": {
    "collapsed": false,
    "scrolled": true
   },
   "outputs": [
    {
     "name": "stdout",
     "output_type": "stream",
     "text": [
      "531656\n"
     ]
    },
    {
     "name": "stderr",
     "output_type": "stream",
     "text": [
      "/Users/hongyuanqing/anaconda/lib/python2.7/site-packages/ipykernel/__main__.py:4: SettingWithCopyWarning: \n",
      "A value is trying to be set on a copy of a slice from a DataFrame.\n",
      "Try using .loc[row_indexer,col_indexer] = value instead\n",
      "\n",
      "See the caveats in the documentation: http://pandas.pydata.org/pandas-docs/stable/indexing.html#indexing-view-versus-copy\n",
      "/Users/hongyuanqing/anaconda/lib/python2.7/site-packages/ipykernel/__main__.py:6: SettingWithCopyWarning: \n",
      "A value is trying to be set on a copy of a slice from a DataFrame.\n",
      "Try using .loc[row_indexer,col_indexer] = value instead\n",
      "\n",
      "See the caveats in the documentation: http://pandas.pydata.org/pandas-docs/stable/indexing.html#indexing-view-versus-copy\n"
     ]
    }
   ],
   "source": [
    "#df_['CMPLNT_FR_DT']\n",
    "df__ = pd.to_datetime(df_['CMPLNT_FR_DT'])\n",
    "df_weekdays = df__.dt.dayofweek\n",
    "df_['CMPLNT_FR_DT'] = df_weekdays\n",
    "df____ = pd.to_datetime(df_['CMPLNT_FR_TM']).dt.hour\n",
    "df_['CMPLNT_FR_TM'] = df____\n",
    "df_.head()\n",
    "Day_num = 67\n",
    "Training_day = 54\n",
    "Testing_day = 13\n",
    "#X_train, X_test, y_train, y_test = train_test_split(\n",
    "#    X, y, test_size=0.2, random_state=42)\n",
    "print np.size(df_)"
   ]
  },
  {
   "cell_type": "code",
   "execution_count": 13,
   "metadata": {
    "collapsed": false
   },
   "outputs": [
    {
     "name": "stdout",
     "output_type": "stream",
     "text": [
      "425324\n"
     ]
    }
   ],
   "source": [
    "from sklearn.model_selection import train_test_split\n",
    "train, test = train_test_split(df_, test_size = 0.2)\n",
    "train.head()\n",
    "print np.size(train)"
   ]
  },
  {
   "cell_type": "code",
   "execution_count": 14,
   "metadata": {
    "collapsed": false
   },
   "outputs": [
    {
     "name": "stdout",
     "output_type": "stream",
     "text": [
      "106332\n"
     ]
    }
   ],
   "source": [
    "test.head()\n",
    "print np.size(test)"
   ]
  },
  {
   "cell_type": "code",
   "execution_count": 4,
   "metadata": {
    "collapsed": false
   },
   "outputs": [],
   "source": [
    "X1 = []\n",
    "X2 = []\n",
    "X3 = []\n",
    "Y = []\n",
    "\n",
    "for day in range(7):\n",
    "    for hour in range(24):\n",
    "        for PCT in range(34):\n",
    "            X1.append(day)\n",
    "            X2.append(hour)\n",
    "            X3.append(PCT)\n",
    "            Y.append(0)\n",
    "\n",
    "CrimeNum = df_.shape[0]\n",
    "\n",
    "for i in range(CrimeNum):\n",
    "    if df_.iloc[i,3] <= 34:\n",
    "        day_ = df_.iloc[i,1]\n",
    "        hour_ = df_.iloc[i,2]\n",
    "        PCT_ = df_.iloc[i,3]\n",
    "        Y[day_*24*34+hour_*34+PCT_-1] +=1\n",
    "        "
   ]
  },
  {
   "cell_type": "code",
   "execution_count": 5,
   "metadata": {
    "collapsed": false
   },
   "outputs": [
    {
     "data": {
      "text/plain": [
       "RandomForestClassifier(bootstrap=True, class_weight=None, criterion='gini',\n",
       "            max_depth=40, max_features='auto', max_leaf_nodes=None,\n",
       "            min_impurity_split=1e-07, min_samples_leaf=1,\n",
       "            min_samples_split=2, min_weight_fraction_leaf=0.0,\n",
       "            n_estimators=10, n_jobs=1, oob_score=False, random_state=None,\n",
       "            verbose=0, warm_start=False)"
      ]
     },
     "execution_count": 5,
     "metadata": {},
     "output_type": "execute_result"
    }
   ],
   "source": [
    "import numpy as np\n",
    "X1 = np.array(X1)\n",
    "X2 = np.array(X2)\n",
    "X3 = np.array(X3)\n",
    "X = np.transpose(np.array([X1,X2,X3]))\n",
    "Y = np.array(Y)\n",
    "from sklearn.ensemble import RandomForestClassifier\n",
    "CLS = RandomForestClassifier(max_depth=40)\n",
    "CLS.fit(X,Y)\n"
   ]
  },
  {
   "cell_type": "code",
   "execution_count": 6,
   "metadata": {
    "collapsed": false
   },
   "outputs": [
    {
     "name": "stderr",
     "output_type": "stream",
     "text": [
      "/Users/hongyuanqing/anaconda/lib/python2.7/site-packages/sklearn/utils/validation.py:395: DeprecationWarning: Passing 1d arrays as data is deprecated in 0.17 and will raise ValueError in 0.19. Reshape your data either using X.reshape(-1, 1) if your data has a single feature or X.reshape(1, -1) if it contains a single sample.\n",
      "  DeprecationWarning)\n",
      "/Users/hongyuanqing/anaconda/lib/python2.7/site-packages/sklearn/utils/validation.py:395: DeprecationWarning: Passing 1d arrays as data is deprecated in 0.17 and will raise ValueError in 0.19. Reshape your data either using X.reshape(-1, 1) if your data has a single feature or X.reshape(1, -1) if it contains a single sample.\n",
      "  DeprecationWarning)\n",
      "/Users/hongyuanqing/anaconda/lib/python2.7/site-packages/sklearn/utils/validation.py:395: DeprecationWarning: Passing 1d arrays as data is deprecated in 0.17 and will raise ValueError in 0.19. Reshape your data either using X.reshape(-1, 1) if your data has a single feature or X.reshape(1, -1) if it contains a single sample.\n",
      "  DeprecationWarning)\n",
      "/Users/hongyuanqing/anaconda/lib/python2.7/site-packages/sklearn/utils/validation.py:395: DeprecationWarning: Passing 1d arrays as data is deprecated in 0.17 and will raise ValueError in 0.19. Reshape your data either using X.reshape(-1, 1) if your data has a single feature or X.reshape(1, -1) if it contains a single sample.\n",
      "  DeprecationWarning)\n",
      "/Users/hongyuanqing/anaconda/lib/python2.7/site-packages/sklearn/utils/validation.py:395: DeprecationWarning: Passing 1d arrays as data is deprecated in 0.17 and will raise ValueError in 0.19. Reshape your data either using X.reshape(-1, 1) if your data has a single feature or X.reshape(1, -1) if it contains a single sample.\n",
      "  DeprecationWarning)\n",
      "/Users/hongyuanqing/anaconda/lib/python2.7/site-packages/sklearn/utils/validation.py:395: DeprecationWarning: Passing 1d arrays as data is deprecated in 0.17 and will raise ValueError in 0.19. Reshape your data either using X.reshape(-1, 1) if your data has a single feature or X.reshape(1, -1) if it contains a single sample.\n",
      "  DeprecationWarning)\n",
      "/Users/hongyuanqing/anaconda/lib/python2.7/site-packages/sklearn/utils/validation.py:395: DeprecationWarning: Passing 1d arrays as data is deprecated in 0.17 and will raise ValueError in 0.19. Reshape your data either using X.reshape(-1, 1) if your data has a single feature or X.reshape(1, -1) if it contains a single sample.\n",
      "  DeprecationWarning)\n",
      "/Users/hongyuanqing/anaconda/lib/python2.7/site-packages/sklearn/utils/validation.py:395: DeprecationWarning: Passing 1d arrays as data is deprecated in 0.17 and will raise ValueError in 0.19. Reshape your data either using X.reshape(-1, 1) if your data has a single feature or X.reshape(1, -1) if it contains a single sample.\n",
      "  DeprecationWarning)\n",
      "/Users/hongyuanqing/anaconda/lib/python2.7/site-packages/sklearn/utils/validation.py:395: DeprecationWarning: Passing 1d arrays as data is deprecated in 0.17 and will raise ValueError in 0.19. Reshape your data either using X.reshape(-1, 1) if your data has a single feature or X.reshape(1, -1) if it contains a single sample.\n",
      "  DeprecationWarning)\n",
      "/Users/hongyuanqing/anaconda/lib/python2.7/site-packages/sklearn/utils/validation.py:395: DeprecationWarning: Passing 1d arrays as data is deprecated in 0.17 and will raise ValueError in 0.19. Reshape your data either using X.reshape(-1, 1) if your data has a single feature or X.reshape(1, -1) if it contains a single sample.\n",
      "  DeprecationWarning)\n",
      "/Users/hongyuanqing/anaconda/lib/python2.7/site-packages/sklearn/utils/validation.py:395: DeprecationWarning: Passing 1d arrays as data is deprecated in 0.17 and will raise ValueError in 0.19. Reshape your data either using X.reshape(-1, 1) if your data has a single feature or X.reshape(1, -1) if it contains a single sample.\n",
      "  DeprecationWarning)\n",
      "/Users/hongyuanqing/anaconda/lib/python2.7/site-packages/sklearn/utils/validation.py:395: DeprecationWarning: Passing 1d arrays as data is deprecated in 0.17 and will raise ValueError in 0.19. Reshape your data either using X.reshape(-1, 1) if your data has a single feature or X.reshape(1, -1) if it contains a single sample.\n",
      "  DeprecationWarning)\n",
      "/Users/hongyuanqing/anaconda/lib/python2.7/site-packages/sklearn/utils/validation.py:395: DeprecationWarning: Passing 1d arrays as data is deprecated in 0.17 and will raise ValueError in 0.19. Reshape your data either using X.reshape(-1, 1) if your data has a single feature or X.reshape(1, -1) if it contains a single sample.\n",
      "  DeprecationWarning)\n",
      "/Users/hongyuanqing/anaconda/lib/python2.7/site-packages/sklearn/utils/validation.py:395: DeprecationWarning: Passing 1d arrays as data is deprecated in 0.17 and will raise ValueError in 0.19. Reshape your data either using X.reshape(-1, 1) if your data has a single feature or X.reshape(1, -1) if it contains a single sample.\n",
      "  DeprecationWarning)\n",
      "/Users/hongyuanqing/anaconda/lib/python2.7/site-packages/sklearn/utils/validation.py:395: DeprecationWarning: Passing 1d arrays as data is deprecated in 0.17 and will raise ValueError in 0.19. Reshape your data either using X.reshape(-1, 1) if your data has a single feature or X.reshape(1, -1) if it contains a single sample.\n",
      "  DeprecationWarning)\n",
      "/Users/hongyuanqing/anaconda/lib/python2.7/site-packages/sklearn/utils/validation.py:395: DeprecationWarning: Passing 1d arrays as data is deprecated in 0.17 and will raise ValueError in 0.19. Reshape your data either using X.reshape(-1, 1) if your data has a single feature or X.reshape(1, -1) if it contains a single sample.\n",
      "  DeprecationWarning)\n",
      "/Users/hongyuanqing/anaconda/lib/python2.7/site-packages/sklearn/utils/validation.py:395: DeprecationWarning: Passing 1d arrays as data is deprecated in 0.17 and will raise ValueError in 0.19. Reshape your data either using X.reshape(-1, 1) if your data has a single feature or X.reshape(1, -1) if it contains a single sample.\n",
      "  DeprecationWarning)\n",
      "/Users/hongyuanqing/anaconda/lib/python2.7/site-packages/sklearn/utils/validation.py:395: DeprecationWarning: Passing 1d arrays as data is deprecated in 0.17 and will raise ValueError in 0.19. Reshape your data either using X.reshape(-1, 1) if your data has a single feature or X.reshape(1, -1) if it contains a single sample.\n",
      "  DeprecationWarning)\n",
      "/Users/hongyuanqing/anaconda/lib/python2.7/site-packages/sklearn/utils/validation.py:395: DeprecationWarning: Passing 1d arrays as data is deprecated in 0.17 and will raise ValueError in 0.19. Reshape your data either using X.reshape(-1, 1) if your data has a single feature or X.reshape(1, -1) if it contains a single sample.\n",
      "  DeprecationWarning)\n",
      "/Users/hongyuanqing/anaconda/lib/python2.7/site-packages/sklearn/utils/validation.py:395: DeprecationWarning: Passing 1d arrays as data is deprecated in 0.17 and will raise ValueError in 0.19. Reshape your data either using X.reshape(-1, 1) if your data has a single feature or X.reshape(1, -1) if it contains a single sample.\n",
      "  DeprecationWarning)\n",
      "/Users/hongyuanqing/anaconda/lib/python2.7/site-packages/sklearn/utils/validation.py:395: DeprecationWarning: Passing 1d arrays as data is deprecated in 0.17 and will raise ValueError in 0.19. Reshape your data either using X.reshape(-1, 1) if your data has a single feature or X.reshape(1, -1) if it contains a single sample.\n",
      "  DeprecationWarning)\n",
      "/Users/hongyuanqing/anaconda/lib/python2.7/site-packages/sklearn/utils/validation.py:395: DeprecationWarning: Passing 1d arrays as data is deprecated in 0.17 and will raise ValueError in 0.19. Reshape your data either using X.reshape(-1, 1) if your data has a single feature or X.reshape(1, -1) if it contains a single sample.\n",
      "  DeprecationWarning)\n",
      "/Users/hongyuanqing/anaconda/lib/python2.7/site-packages/sklearn/utils/validation.py:395: DeprecationWarning: Passing 1d arrays as data is deprecated in 0.17 and will raise ValueError in 0.19. Reshape your data either using X.reshape(-1, 1) if your data has a single feature or X.reshape(1, -1) if it contains a single sample.\n",
      "  DeprecationWarning)\n",
      "/Users/hongyuanqing/anaconda/lib/python2.7/site-packages/sklearn/utils/validation.py:395: DeprecationWarning: Passing 1d arrays as data is deprecated in 0.17 and will raise ValueError in 0.19. Reshape your data either using X.reshape(-1, 1) if your data has a single feature or X.reshape(1, -1) if it contains a single sample.\n",
      "  DeprecationWarning)\n",
      "/Users/hongyuanqing/anaconda/lib/python2.7/site-packages/sklearn/utils/validation.py:395: DeprecationWarning: Passing 1d arrays as data is deprecated in 0.17 and will raise ValueError in 0.19. Reshape your data either using X.reshape(-1, 1) if your data has a single feature or X.reshape(1, -1) if it contains a single sample.\n",
      "  DeprecationWarning)\n",
      "/Users/hongyuanqing/anaconda/lib/python2.7/site-packages/sklearn/utils/validation.py:395: DeprecationWarning: Passing 1d arrays as data is deprecated in 0.17 and will raise ValueError in 0.19. Reshape your data either using X.reshape(-1, 1) if your data has a single feature or X.reshape(1, -1) if it contains a single sample.\n",
      "  DeprecationWarning)\n",
      "/Users/hongyuanqing/anaconda/lib/python2.7/site-packages/sklearn/utils/validation.py:395: DeprecationWarning: Passing 1d arrays as data is deprecated in 0.17 and will raise ValueError in 0.19. Reshape your data either using X.reshape(-1, 1) if your data has a single feature or X.reshape(1, -1) if it contains a single sample.\n",
      "  DeprecationWarning)\n",
      "/Users/hongyuanqing/anaconda/lib/python2.7/site-packages/sklearn/utils/validation.py:395: DeprecationWarning: Passing 1d arrays as data is deprecated in 0.17 and will raise ValueError in 0.19. Reshape your data either using X.reshape(-1, 1) if your data has a single feature or X.reshape(1, -1) if it contains a single sample.\n",
      "  DeprecationWarning)\n"
     ]
    },
    {
     "name": "stdout",
     "output_type": "stream",
     "text": [
      "[array([0]), array([0]), array([0]), array([0]), array([5]), array([9]), array([6]), array([0]), array([0]), array([6]), array([0]), array([0]), array([14]), array([9]), array([0]), array([0]), array([10]), array([10]), array([10]), array([9]), array([0]), array([1]), array([11]), array([14]), array([4]), array([2]), array([0]), array([5]), array([0]), array([5])]\n"
     ]
    },
    {
     "name": "stderr",
     "output_type": "stream",
     "text": [
      "/Users/hongyuanqing/anaconda/lib/python2.7/site-packages/sklearn/utils/validation.py:395: DeprecationWarning: Passing 1d arrays as data is deprecated in 0.17 and will raise ValueError in 0.19. Reshape your data either using X.reshape(-1, 1) if your data has a single feature or X.reshape(1, -1) if it contains a single sample.\n",
      "  DeprecationWarning)\n",
      "/Users/hongyuanqing/anaconda/lib/python2.7/site-packages/sklearn/utils/validation.py:395: DeprecationWarning: Passing 1d arrays as data is deprecated in 0.17 and will raise ValueError in 0.19. Reshape your data either using X.reshape(-1, 1) if your data has a single feature or X.reshape(1, -1) if it contains a single sample.\n",
      "  DeprecationWarning)\n"
     ]
    }
   ],
   "source": [
    "Z = []\n",
    "for i in range(30):\n",
    "    Z.append(CLS.predict([0, 0 , i]))\n",
    "print Z"
   ]
  },
  {
   "cell_type": "code",
   "execution_count": null,
   "metadata": {
    "collapsed": true
   },
   "outputs": [],
   "source": []
  }
 ],
 "metadata": {
  "anaconda-cloud": {},
  "kernelspec": {
   "display_name": "Python [Root]",
   "language": "python",
   "name": "Python [Root]"
  },
  "language_info": {
   "codemirror_mode": {
    "name": "ipython",
    "version": 2
   },
   "file_extension": ".py",
   "mimetype": "text/x-python",
   "name": "python",
   "nbconvert_exporter": "python",
   "pygments_lexer": "ipython2",
   "version": "2.7.12"
  }
 },
 "nbformat": 4,
 "nbformat_minor": 2
}
