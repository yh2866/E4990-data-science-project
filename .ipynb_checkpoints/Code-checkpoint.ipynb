{
 "cells": [
  {
   "cell_type": "code",
   "execution_count": 1,
   "metadata": {
    "collapsed": false
   },
   "outputs": [
    {
     "data": {
      "text/html": [
       "<div>\n",
       "<table border=\"1\" class=\"dataframe\">\n",
       "  <thead>\n",
       "    <tr style=\"text-align: right;\">\n",
       "      <th></th>\n",
       "      <th>CMPLNT_NUM</th>\n",
       "      <th>CMPLNT_FR_DT</th>\n",
       "      <th>CMPLNT_FR_TM</th>\n",
       "      <th>CMPLNT_TO_DT</th>\n",
       "      <th>CMPLNT_TO_TM</th>\n",
       "      <th>RPT_DT</th>\n",
       "      <th>KY_CD</th>\n",
       "      <th>OFNS_DESC</th>\n",
       "      <th>PD_CD</th>\n",
       "      <th>PD_DESC</th>\n",
       "      <th>...</th>\n",
       "      <th>ADDR_PCT_CD</th>\n",
       "      <th>LOC_OF_OCCUR_DESC</th>\n",
       "      <th>PREM_TYP_DESC</th>\n",
       "      <th>PARKS_NM</th>\n",
       "      <th>HADEVELOPT</th>\n",
       "      <th>X_COORD_CD</th>\n",
       "      <th>Y_COORD_CD</th>\n",
       "      <th>Latitude</th>\n",
       "      <th>Longitude</th>\n",
       "      <th>Lat_Lon</th>\n",
       "    </tr>\n",
       "  </thead>\n",
       "  <tbody>\n",
       "    <tr>\n",
       "      <th>0</th>\n",
       "      <td>822760976</td>\n",
       "      <td>1983/3/3</td>\n",
       "      <td>21:30:00</td>\n",
       "      <td>3/4/16</td>\n",
       "      <td>4:00:00</td>\n",
       "      <td>3/4/16</td>\n",
       "      <td>341</td>\n",
       "      <td>PETIT LARCENY</td>\n",
       "      <td>338.0</td>\n",
       "      <td>LARCENY,PETIT FROM BUILDING,UN</td>\n",
       "      <td>...</td>\n",
       "      <td>10</td>\n",
       "      <td>INSIDE</td>\n",
       "      <td>HOTEL/MOTEL</td>\n",
       "      <td>NaN</td>\n",
       "      <td>NaN</td>\n",
       "      <td>983423.0</td>\n",
       "      <td>209491.0</td>\n",
       "      <td>40.741689</td>\n",
       "      <td>-74.002986</td>\n",
       "      <td>(40.7416892, -74.002985851)</td>\n",
       "    </tr>\n",
       "    <tr>\n",
       "      <th>1</th>\n",
       "      <td>267058046</td>\n",
       "      <td>1986/2/7</td>\n",
       "      <td>21:00:00</td>\n",
       "      <td>6/17/16</td>\n",
       "      <td>13:10:00</td>\n",
       "      <td>4/16/16</td>\n",
       "      <td>104</td>\n",
       "      <td>RAPE</td>\n",
       "      <td>157.0</td>\n",
       "      <td>RAPE 1</td>\n",
       "      <td>...</td>\n",
       "      <td>109</td>\n",
       "      <td>INSIDE</td>\n",
       "      <td>RESIDENCE - APT. HOUSE</td>\n",
       "      <td>NaN</td>\n",
       "      <td>NaN</td>\n",
       "      <td>1007115.0</td>\n",
       "      <td>237715.0</td>\n",
       "      <td>40.819127</td>\n",
       "      <td>-73.917392</td>\n",
       "      <td>(40.819127068, -73.917392286)</td>\n",
       "    </tr>\n",
       "    <tr>\n",
       "      <th>2</th>\n",
       "      <td>712268575</td>\n",
       "      <td>1987/2/25</td>\n",
       "      <td>12:00:00</td>\n",
       "      <td>2/23/16</td>\n",
       "      <td>9:53:00</td>\n",
       "      <td>2/23/16</td>\n",
       "      <td>109</td>\n",
       "      <td>GRAND LARCENY</td>\n",
       "      <td>424.0</td>\n",
       "      <td>LARCENY,GRAND BY CREDIT CARD ACCT COMPROMISE-E...</td>\n",
       "      <td>...</td>\n",
       "      <td>62</td>\n",
       "      <td>INSIDE</td>\n",
       "      <td>RESIDENCE - APT. HOUSE</td>\n",
       "      <td>NaN</td>\n",
       "      <td>RED HOOK WEST</td>\n",
       "      <td>989266.0</td>\n",
       "      <td>157706.0</td>\n",
       "      <td>40.599550</td>\n",
       "      <td>-73.981939</td>\n",
       "      <td>(40.599549586, -73.981938688)</td>\n",
       "    </tr>\n",
       "    <tr>\n",
       "      <th>3</th>\n",
       "      <td>761641495</td>\n",
       "      <td>1987/9/18</td>\n",
       "      <td>0:01:00</td>\n",
       "      <td>2/2/16</td>\n",
       "      <td>14:46:00</td>\n",
       "      <td>2/2/16</td>\n",
       "      <td>109</td>\n",
       "      <td>GRAND LARCENY</td>\n",
       "      <td>432.0</td>\n",
       "      <td>LARCENY,GRAND BY IDENTITY THEFT-UNCLASSIFIED</td>\n",
       "      <td>...</td>\n",
       "      <td>25</td>\n",
       "      <td>INSIDE</td>\n",
       "      <td>RESIDENCE - APT. HOUSE</td>\n",
       "      <td>NaN</td>\n",
       "      <td>NaN</td>\n",
       "      <td>999588.0</td>\n",
       "      <td>230862.0</td>\n",
       "      <td>40.800334</td>\n",
       "      <td>-73.944602</td>\n",
       "      <td>(40.800333759, -73.9446023)</td>\n",
       "    </tr>\n",
       "    <tr>\n",
       "      <th>4</th>\n",
       "      <td>710136073</td>\n",
       "      <td>1991/1/1</td>\n",
       "      <td>6:00:00</td>\n",
       "      <td>1/1/93</td>\n",
       "      <td>6:00:00</td>\n",
       "      <td>4/7/16</td>\n",
       "      <td>104</td>\n",
       "      <td>RAPE</td>\n",
       "      <td>157.0</td>\n",
       "      <td>RAPE 1</td>\n",
       "      <td>...</td>\n",
       "      <td>110</td>\n",
       "      <td>INSIDE</td>\n",
       "      <td>RESIDENCE-HOUSE</td>\n",
       "      <td>NaN</td>\n",
       "      <td>NaN</td>\n",
       "      <td>981530.0</td>\n",
       "      <td>173860.0</td>\n",
       "      <td>40.643890</td>\n",
       "      <td>-74.009803</td>\n",
       "      <td>(40.643889954, -74.009802745)</td>\n",
       "    </tr>\n",
       "  </tbody>\n",
       "</table>\n",
       "<p>5 rows × 24 columns</p>\n",
       "</div>"
      ],
      "text/plain": [
       "   CMPLNT_NUM CMPLNT_FR_DT CMPLNT_FR_TM CMPLNT_TO_DT CMPLNT_TO_TM   RPT_DT  \\\n",
       "0   822760976     1983/3/3     21:30:00       3/4/16      4:00:00   3/4/16   \n",
       "1   267058046     1986/2/7     21:00:00      6/17/16     13:10:00  4/16/16   \n",
       "2   712268575    1987/2/25     12:00:00      2/23/16      9:53:00  2/23/16   \n",
       "3   761641495    1987/9/18      0:01:00       2/2/16     14:46:00   2/2/16   \n",
       "4   710136073     1991/1/1      6:00:00       1/1/93      6:00:00   4/7/16   \n",
       "\n",
       "   KY_CD      OFNS_DESC  PD_CD  \\\n",
       "0    341  PETIT LARCENY  338.0   \n",
       "1    104           RAPE  157.0   \n",
       "2    109  GRAND LARCENY  424.0   \n",
       "3    109  GRAND LARCENY  432.0   \n",
       "4    104           RAPE  157.0   \n",
       "\n",
       "                                             PD_DESC  \\\n",
       "0                     LARCENY,PETIT FROM BUILDING,UN   \n",
       "1                                             RAPE 1   \n",
       "2  LARCENY,GRAND BY CREDIT CARD ACCT COMPROMISE-E...   \n",
       "3       LARCENY,GRAND BY IDENTITY THEFT-UNCLASSIFIED   \n",
       "4                                             RAPE 1   \n",
       "\n",
       "               ...               ADDR_PCT_CD LOC_OF_OCCUR_DESC  \\\n",
       "0              ...                        10            INSIDE   \n",
       "1              ...                       109            INSIDE   \n",
       "2              ...                        62            INSIDE   \n",
       "3              ...                        25            INSIDE   \n",
       "4              ...                       110            INSIDE   \n",
       "\n",
       "            PREM_TYP_DESC PARKS_NM     HADEVELOPT X_COORD_CD Y_COORD_CD  \\\n",
       "0             HOTEL/MOTEL      NaN            NaN   983423.0   209491.0   \n",
       "1  RESIDENCE - APT. HOUSE      NaN            NaN  1007115.0   237715.0   \n",
       "2  RESIDENCE - APT. HOUSE      NaN  RED HOOK WEST   989266.0   157706.0   \n",
       "3  RESIDENCE - APT. HOUSE      NaN            NaN   999588.0   230862.0   \n",
       "4         RESIDENCE-HOUSE      NaN            NaN   981530.0   173860.0   \n",
       "\n",
       "    Latitude  Longitude                        Lat_Lon  \n",
       "0  40.741689 -74.002986    (40.7416892, -74.002985851)  \n",
       "1  40.819127 -73.917392  (40.819127068, -73.917392286)  \n",
       "2  40.599550 -73.981939  (40.599549586, -73.981938688)  \n",
       "3  40.800334 -73.944602    (40.800333759, -73.9446023)  \n",
       "4  40.643890 -74.009803  (40.643889954, -74.009802745)  \n",
       "\n",
       "[5 rows x 24 columns]"
      ]
     },
     "execution_count": 1,
     "metadata": {},
     "output_type": "execute_result"
    }
   ],
   "source": [
    "import pandas as pd\n",
    "df =pd.read_csv('NYPD_Data.csv')\n",
    "df.head()"
   ]
  },
  {
   "cell_type": "code",
   "execution_count": 2,
   "metadata": {
    "collapsed": false
   },
   "outputs": [
    {
     "data": {
      "text/html": [
       "<div>\n",
       "<table border=\"1\" class=\"dataframe\">\n",
       "  <thead>\n",
       "    <tr style=\"text-align: right;\">\n",
       "      <th></th>\n",
       "      <th>CMPLNT_NUM</th>\n",
       "      <th>CMPLNT_FR_DT</th>\n",
       "      <th>CMPLNT_FR_TM</th>\n",
       "      <th>ADDR_PCT_CD</th>\n",
       "    </tr>\n",
       "  </thead>\n",
       "  <tbody>\n",
       "    <tr>\n",
       "      <th>0</th>\n",
       "      <td>822760976</td>\n",
       "      <td>1983/3/3</td>\n",
       "      <td>21:30:00</td>\n",
       "      <td>10</td>\n",
       "    </tr>\n",
       "    <tr>\n",
       "      <th>1</th>\n",
       "      <td>267058046</td>\n",
       "      <td>1986/2/7</td>\n",
       "      <td>21:00:00</td>\n",
       "      <td>109</td>\n",
       "    </tr>\n",
       "    <tr>\n",
       "      <th>2</th>\n",
       "      <td>712268575</td>\n",
       "      <td>1987/2/25</td>\n",
       "      <td>12:00:00</td>\n",
       "      <td>62</td>\n",
       "    </tr>\n",
       "    <tr>\n",
       "      <th>3</th>\n",
       "      <td>761641495</td>\n",
       "      <td>1987/9/18</td>\n",
       "      <td>0:01:00</td>\n",
       "      <td>25</td>\n",
       "    </tr>\n",
       "    <tr>\n",
       "      <th>4</th>\n",
       "      <td>710136073</td>\n",
       "      <td>1991/1/1</td>\n",
       "      <td>6:00:00</td>\n",
       "      <td>110</td>\n",
       "    </tr>\n",
       "  </tbody>\n",
       "</table>\n",
       "</div>"
      ],
      "text/plain": [
       "   CMPLNT_NUM CMPLNT_FR_DT CMPLNT_FR_TM  ADDR_PCT_CD\n",
       "0   822760976     1983/3/3     21:30:00           10\n",
       "1   267058046     1986/2/7     21:00:00          109\n",
       "2   712268575    1987/2/25     12:00:00           62\n",
       "3   761641495    1987/9/18      0:01:00           25\n",
       "4   710136073     1991/1/1      6:00:00          110"
      ]
     },
     "execution_count": 2,
     "metadata": {},
     "output_type": "execute_result"
    }
   ],
   "source": [
    "df_=df[['CMPLNT_NUM', 'CMPLNT_FR_DT', 'CMPLNT_FR_TM', 'ADDR_PCT_CD']]\n",
    "df_.head()"
   ]
  },
  {
   "cell_type": "code",
   "execution_count": 3,
   "metadata": {
    "collapsed": false
   },
   "outputs": [
    {
     "data": {
      "text/plain": [
       "0   1983-03-03\n",
       "1   1986-02-07\n",
       "2   1987-02-25\n",
       "3   1987-09-18\n",
       "4   1991-01-01\n",
       "Name: CMPLNT_FR_DT, dtype: datetime64[ns]"
      ]
     },
     "execution_count": 3,
     "metadata": {},
     "output_type": "execute_result"
    }
   ],
   "source": [
    "#df_['CMPLNT_FR_DT']\n",
    "df__ = pd.to_datetime(df_['CMPLNT_FR_DT'])\n",
    "df__.head()"
   ]
  },
  {
   "cell_type": "code",
   "execution_count": 4,
   "metadata": {
    "collapsed": false,
    "scrolled": true
   },
   "outputs": [
    {
     "data": {
      "text/plain": [
       "0    3\n",
       "1    4\n",
       "2    2\n",
       "3    4\n",
       "4    1\n",
       "Name: CMPLNT_FR_DT, dtype: int64"
      ]
     },
     "execution_count": 4,
     "metadata": {},
     "output_type": "execute_result"
    }
   ],
   "source": [
    "df_weekdays = df__.dt.dayofweek\n",
    "df_weekdays.head()"
   ]
  },
  {
   "cell_type": "code",
   "execution_count": 5,
   "metadata": {
    "collapsed": false,
    "scrolled": false
   },
   "outputs": [
    {
     "name": "stderr",
     "output_type": "stream",
     "text": [
      "/Users/hongyuanqing/anaconda/lib/python2.7/site-packages/ipykernel/__main__.py:1: SettingWithCopyWarning: \n",
      "A value is trying to be set on a copy of a slice from a DataFrame.\n",
      "Try using .loc[row_indexer,col_indexer] = value instead\n",
      "\n",
      "See the caveats in the documentation: http://pandas.pydata.org/pandas-docs/stable/indexing.html#indexing-view-versus-copy\n",
      "  if __name__ == '__main__':\n"
     ]
    },
    {
     "data": {
      "text/html": [
       "<div>\n",
       "<table border=\"1\" class=\"dataframe\">\n",
       "  <thead>\n",
       "    <tr style=\"text-align: right;\">\n",
       "      <th></th>\n",
       "      <th>CMPLNT_NUM</th>\n",
       "      <th>CMPLNT_FR_DT</th>\n",
       "      <th>CMPLNT_FR_TM</th>\n",
       "      <th>ADDR_PCT_CD</th>\n",
       "    </tr>\n",
       "  </thead>\n",
       "  <tbody>\n",
       "    <tr>\n",
       "      <th>0</th>\n",
       "      <td>822760976</td>\n",
       "      <td>3</td>\n",
       "      <td>21:30:00</td>\n",
       "      <td>10</td>\n",
       "    </tr>\n",
       "    <tr>\n",
       "      <th>1</th>\n",
       "      <td>267058046</td>\n",
       "      <td>4</td>\n",
       "      <td>21:00:00</td>\n",
       "      <td>109</td>\n",
       "    </tr>\n",
       "    <tr>\n",
       "      <th>2</th>\n",
       "      <td>712268575</td>\n",
       "      <td>2</td>\n",
       "      <td>12:00:00</td>\n",
       "      <td>62</td>\n",
       "    </tr>\n",
       "    <tr>\n",
       "      <th>3</th>\n",
       "      <td>761641495</td>\n",
       "      <td>4</td>\n",
       "      <td>0:01:00</td>\n",
       "      <td>25</td>\n",
       "    </tr>\n",
       "    <tr>\n",
       "      <th>4</th>\n",
       "      <td>710136073</td>\n",
       "      <td>1</td>\n",
       "      <td>6:00:00</td>\n",
       "      <td>110</td>\n",
       "    </tr>\n",
       "  </tbody>\n",
       "</table>\n",
       "</div>"
      ],
      "text/plain": [
       "   CMPLNT_NUM  CMPLNT_FR_DT CMPLNT_FR_TM  ADDR_PCT_CD\n",
       "0   822760976             3     21:30:00           10\n",
       "1   267058046             4     21:00:00          109\n",
       "2   712268575             2     12:00:00           62\n",
       "3   761641495             4      0:01:00           25\n",
       "4   710136073             1      6:00:00          110"
      ]
     },
     "execution_count": 5,
     "metadata": {},
     "output_type": "execute_result"
    }
   ],
   "source": [
    "df_['CMPLNT_FR_DT'] = df_weekdays\n",
    "df_.head()"
   ]
  },
  {
   "cell_type": "code",
   "execution_count": 6,
   "metadata": {
    "collapsed": false,
    "scrolled": true
   },
   "outputs": [
    {
     "data": {
      "text/plain": [
       "0    21\n",
       "1    21\n",
       "2    12\n",
       "3     0\n",
       "4     6\n",
       "Name: CMPLNT_FR_TM, dtype: int64"
      ]
     },
     "execution_count": 6,
     "metadata": {},
     "output_type": "execute_result"
    }
   ],
   "source": [
    "df____ = pd.to_datetime(df_['CMPLNT_FR_TM']).dt.hour\n",
    "df____.head()"
   ]
  },
  {
   "cell_type": "code",
   "execution_count": 7,
   "metadata": {
    "collapsed": false,
    "scrolled": false
   },
   "outputs": [
    {
     "name": "stderr",
     "output_type": "stream",
     "text": [
      "/Users/hongyuanqing/anaconda/lib/python2.7/site-packages/ipykernel/__main__.py:1: SettingWithCopyWarning: \n",
      "A value is trying to be set on a copy of a slice from a DataFrame.\n",
      "Try using .loc[row_indexer,col_indexer] = value instead\n",
      "\n",
      "See the caveats in the documentation: http://pandas.pydata.org/pandas-docs/stable/indexing.html#indexing-view-versus-copy\n",
      "  if __name__ == '__main__':\n"
     ]
    },
    {
     "data": {
      "text/html": [
       "<div>\n",
       "<table border=\"1\" class=\"dataframe\">\n",
       "  <thead>\n",
       "    <tr style=\"text-align: right;\">\n",
       "      <th></th>\n",
       "      <th>CMPLNT_NUM</th>\n",
       "      <th>CMPLNT_FR_DT</th>\n",
       "      <th>CMPLNT_FR_TM</th>\n",
       "      <th>ADDR_PCT_CD</th>\n",
       "    </tr>\n",
       "  </thead>\n",
       "  <tbody>\n",
       "    <tr>\n",
       "      <th>0</th>\n",
       "      <td>822760976</td>\n",
       "      <td>3</td>\n",
       "      <td>21</td>\n",
       "      <td>10</td>\n",
       "    </tr>\n",
       "    <tr>\n",
       "      <th>1</th>\n",
       "      <td>267058046</td>\n",
       "      <td>4</td>\n",
       "      <td>21</td>\n",
       "      <td>109</td>\n",
       "    </tr>\n",
       "    <tr>\n",
       "      <th>2</th>\n",
       "      <td>712268575</td>\n",
       "      <td>2</td>\n",
       "      <td>12</td>\n",
       "      <td>62</td>\n",
       "    </tr>\n",
       "    <tr>\n",
       "      <th>3</th>\n",
       "      <td>761641495</td>\n",
       "      <td>4</td>\n",
       "      <td>0</td>\n",
       "      <td>25</td>\n",
       "    </tr>\n",
       "    <tr>\n",
       "      <th>4</th>\n",
       "      <td>710136073</td>\n",
       "      <td>1</td>\n",
       "      <td>6</td>\n",
       "      <td>110</td>\n",
       "    </tr>\n",
       "  </tbody>\n",
       "</table>\n",
       "</div>"
      ],
      "text/plain": [
       "   CMPLNT_NUM  CMPLNT_FR_DT  CMPLNT_FR_TM  ADDR_PCT_CD\n",
       "0   822760976             3            21           10\n",
       "1   267058046             4            21          109\n",
       "2   712268575             2            12           62\n",
       "3   761641495             4             0           25\n",
       "4   710136073             1             6          110"
      ]
     },
     "execution_count": 7,
     "metadata": {},
     "output_type": "execute_result"
    }
   ],
   "source": [
    "df_['CMPLNT_FR_TM'] = df____\n",
    "df_.head()"
   ]
  },
  {
   "cell_type": "code",
   "execution_count": 8,
   "metadata": {
    "collapsed": false,
    "scrolled": true
   },
   "outputs": [
    {
     "data": {
      "text/plain": [
       "CMPLNT_FR_DT  CMPLNT_FR_TM  ADDR_PCT_CD\n",
       "0             0             1               8\n",
       "                            5               5\n",
       "                            6              10\n",
       "                            7               6\n",
       "                            9               5\n",
       "                            10              6\n",
       "                            13             15\n",
       "                            14              9\n",
       "                            17             11\n",
       "                            18             11\n",
       "                            19             10\n",
       "                            20              9\n",
       "                            22              1\n",
       "                            23             11\n",
       "                            24             14\n",
       "                            25              5\n",
       "                            26              2\n",
       "                            28              6\n",
       "                            30              5\n",
       "                            32              6\n",
       "                            33              7\n",
       "                            34             14\n",
       "                            40             19\n",
       "                            41             13\n",
       "                            42              6\n",
       "                            43             22\n",
       "                            44             15\n",
       "                            45              9\n",
       "                            46             10\n",
       "                            47             19\n",
       "                                           ..\n",
       "6             23            76              7\n",
       "                            77              6\n",
       "                            78              6\n",
       "                            79             14\n",
       "                            81             11\n",
       "                            83              4\n",
       "                            84              3\n",
       "                            88              6\n",
       "                            90             13\n",
       "                            94              5\n",
       "                            100             3\n",
       "                            101             7\n",
       "                            102             9\n",
       "                            103             7\n",
       "                            104            13\n",
       "                            105            13\n",
       "                            106            19\n",
       "                            107            12\n",
       "                            108             3\n",
       "                            109            17\n",
       "                            110             6\n",
       "                            111             4\n",
       "                            112             4\n",
       "                            113            14\n",
       "                            114            16\n",
       "                            115            14\n",
       "                            120            12\n",
       "                            121             6\n",
       "                            122             6\n",
       "                            123             2\n",
       "dtype: int64"
      ]
     },
     "execution_count": 8,
     "metadata": {},
     "output_type": "execute_result"
    }
   ],
   "source": [
    "import numpy as np\n",
    "#df_.groupby(['CMPLNT_FR_DT', 'CMPLNT_FR_TM']).agg({'df_': [np.size]})\n",
    "\n",
    "df2 = df_.groupby(['CMPLNT_FR_DT','CMPLNT_FR_TM','ADDR_PCT_CD']).size()\n",
    "df2"
   ]
  },
  {
   "cell_type": "code",
   "execution_count": 9,
   "metadata": {
    "collapsed": false
   },
   "outputs": [
    {
     "name": "stdout",
     "output_type": "stream",
     "text": [
      "CMPLNT_FR_DT  CMPLNT_FR_TM  ADDR_PCT_CD\n",
      "0             0             1               8\n",
      "                            5               5\n",
      "                            6              10\n",
      "                            7               6\n",
      "                            9               5\n",
      "                            10              6\n",
      "                            13             15\n",
      "                            14              9\n",
      "                            17             11\n",
      "                            18             11\n",
      "                            19             10\n",
      "                            20              9\n",
      "                            22              1\n",
      "                            23             11\n",
      "                            24             14\n",
      "                            25              5\n",
      "                            26              2\n",
      "                            28              6\n",
      "                            30              5\n",
      "                            32              6\n",
      "                            33              7\n",
      "                            34             14\n",
      "                            40             19\n",
      "                            41             13\n",
      "                            42              6\n",
      "                            43             22\n",
      "                            44             15\n",
      "                            45              9\n",
      "                            46             10\n",
      "                            47             19\n",
      "                                           ..\n",
      "6             23            76              7\n",
      "                            77              6\n",
      "                            78              6\n",
      "                            79             14\n",
      "                            81             11\n",
      "                            83              4\n",
      "                            84              3\n",
      "                            88              6\n",
      "                            90             13\n",
      "                            94              5\n",
      "                            100             3\n",
      "                            101             7\n",
      "                            102             9\n",
      "                            103             7\n",
      "                            104            13\n",
      "                            105            13\n",
      "                            106            19\n",
      "                            107            12\n",
      "                            108             3\n",
      "                            109            17\n",
      "                            110             6\n",
      "                            111             4\n",
      "                            112             4\n",
      "                            113            14\n",
      "                            114            16\n",
      "                            115            14\n",
      "                            120            12\n",
      "                            121             6\n",
      "                            122             6\n",
      "                            123             2\n",
      "dtype: int64\n"
     ]
    }
   ],
   "source": [
    "example_pivot_table = pd.pivot_table(df_, values='CMPLNT_NUM', columns=['CMPLNT_FR_DT','CMPLNT_FR_TM','ADDR_PCT_CD'], aggfunc='count')\n",
    "print example_pivot_table"
   ]
  },
  {
   "cell_type": "code",
   "execution_count": null,
   "metadata": {
    "collapsed": false
   },
   "outputs": [],
   "source": [
    "abc = example_pivot_table.index.get_level_values(2).astype('float')\n",
    "print abc"
   ]
  },
  {
   "cell_type": "code",
   "execution_count": null,
   "metadata": {
    "collapsed": false
   },
   "outputs": [],
   "source": [
    "print abc[4]/abc[5]"
   ]
  },
  {
   "cell_type": "code",
   "execution_count": null,
   "metadata": {
    "collapsed": false
   },
   "outputs": [],
   "source": [
    "example_pivot_table[]"
   ]
  },
  {
   "cell_type": "code",
   "execution_count": null,
   "metadata": {
    "collapsed": false
   },
   "outputs": [],
   "source": [
    "example_pivot_table['Value']"
   ]
  },
  {
   "cell_type": "code",
   "execution_count": null,
   "metadata": {
    "collapsed": false
   },
   "outputs": [],
   "source": [
    "abc = example_pivot_table.index.get_level_values(2).astype('float')\n",
    "print abc"
   ]
  },
  {
   "cell_type": "code",
   "execution_count": 14,
   "metadata": {
    "collapsed": false
   },
   "outputs": [
    {
     "ename": "KeyError",
     "evalue": "'CMPLNT_NUM'",
     "output_type": "error",
     "traceback": [
      "\u001b[0;31m---------------------------------------------------------------------------\u001b[0m",
      "\u001b[0;31mKeyError\u001b[0m                                  Traceback (most recent call last)",
      "\u001b[0;32m<ipython-input-14-d783c652c7a7>\u001b[0m in \u001b[0;36m<module>\u001b[0;34m()\u001b[0m\n\u001b[0;32m----> 1\u001b[0;31m \u001b[0mexample_pivot_table\u001b[0m\u001b[0;34m[\u001b[0m\u001b[0;34m'CMPLNT_NUM'\u001b[0m\u001b[0;34m]\u001b[0m\u001b[0;34m\u001b[0m\u001b[0m\n\u001b[0m",
      "\u001b[0;32m/Users/hongyuanqing/anaconda/lib/python2.7/site-packages/pandas/core/series.pyc\u001b[0m in \u001b[0;36m__getitem__\u001b[0;34m(self, key)\u001b[0m\n\u001b[1;32m    581\u001b[0m         \u001b[0mkey\u001b[0m \u001b[0;34m=\u001b[0m \u001b[0mcom\u001b[0m\u001b[0;34m.\u001b[0m\u001b[0m_apply_if_callable\u001b[0m\u001b[0;34m(\u001b[0m\u001b[0mkey\u001b[0m\u001b[0;34m,\u001b[0m \u001b[0mself\u001b[0m\u001b[0;34m)\u001b[0m\u001b[0;34m\u001b[0m\u001b[0m\n\u001b[1;32m    582\u001b[0m         \u001b[0;32mtry\u001b[0m\u001b[0;34m:\u001b[0m\u001b[0;34m\u001b[0m\u001b[0m\n\u001b[0;32m--> 583\u001b[0;31m             \u001b[0mresult\u001b[0m \u001b[0;34m=\u001b[0m \u001b[0mself\u001b[0m\u001b[0;34m.\u001b[0m\u001b[0mindex\u001b[0m\u001b[0;34m.\u001b[0m\u001b[0mget_value\u001b[0m\u001b[0;34m(\u001b[0m\u001b[0mself\u001b[0m\u001b[0;34m,\u001b[0m \u001b[0mkey\u001b[0m\u001b[0;34m)\u001b[0m\u001b[0;34m\u001b[0m\u001b[0m\n\u001b[0m\u001b[1;32m    584\u001b[0m \u001b[0;34m\u001b[0m\u001b[0m\n\u001b[1;32m    585\u001b[0m             \u001b[0;32mif\u001b[0m \u001b[0;32mnot\u001b[0m \u001b[0mlib\u001b[0m\u001b[0;34m.\u001b[0m\u001b[0misscalar\u001b[0m\u001b[0;34m(\u001b[0m\u001b[0mresult\u001b[0m\u001b[0;34m)\u001b[0m\u001b[0;34m:\u001b[0m\u001b[0;34m\u001b[0m\u001b[0m\n",
      "\u001b[0;32m/Users/hongyuanqing/anaconda/lib/python2.7/site-packages/pandas/indexes/multi.pyc\u001b[0m in \u001b[0;36mget_value\u001b[0;34m(self, series, key)\u001b[0m\n\u001b[1;32m    624\u001b[0m                     \u001b[0;32mraise\u001b[0m \u001b[0mInvalidIndexError\u001b[0m\u001b[0;34m(\u001b[0m\u001b[0mkey\u001b[0m\u001b[0;34m)\u001b[0m\u001b[0;34m\u001b[0m\u001b[0m\n\u001b[1;32m    625\u001b[0m                 \u001b[0;32melse\u001b[0m\u001b[0;34m:\u001b[0m\u001b[0;34m\u001b[0m\u001b[0m\n\u001b[0;32m--> 626\u001b[0;31m                     \u001b[0;32mraise\u001b[0m \u001b[0me1\u001b[0m\u001b[0;34m\u001b[0m\u001b[0m\n\u001b[0m\u001b[1;32m    627\u001b[0m             \u001b[0;32mexcept\u001b[0m \u001b[0mException\u001b[0m\u001b[0;34m:\u001b[0m  \u001b[0;31m# pragma: no cover\u001b[0m\u001b[0;34m\u001b[0m\u001b[0m\n\u001b[1;32m    628\u001b[0m                 \u001b[0;32mraise\u001b[0m \u001b[0me1\u001b[0m\u001b[0;34m\u001b[0m\u001b[0m\n",
      "\u001b[0;31mKeyError\u001b[0m: 'CMPLNT_NUM'"
     ]
    }
   ],
   "source": [
    "example_pivot_table['CMPLNT_NUM']"
   ]
  },
  {
   "cell_type": "code",
   "execution_count": null,
   "metadata": {
    "collapsed": true
   },
   "outputs": [],
   "source": [
    "unstack()"
   ]
  }
 ],
 "metadata": {
  "anaconda-cloud": {},
  "kernelspec": {
   "display_name": "Python [Root]",
   "language": "python",
   "name": "Python [Root]"
  },
  "language_info": {
   "codemirror_mode": {
    "name": "ipython",
    "version": 2
   },
   "file_extension": ".py",
   "mimetype": "text/x-python",
   "name": "python",
   "nbconvert_exporter": "python",
   "pygments_lexer": "ipython2",
   "version": "2.7.12"
  }
 },
 "nbformat": 4,
 "nbformat_minor": 2
}
