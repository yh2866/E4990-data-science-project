{
 "cells": [
  {
   "cell_type": "code",
   "execution_count": 16,
   "metadata": {
    "collapsed": false
   },
   "outputs": [
    {
     "data": {
      "text/html": [
       "<div>\n",
       "<table border=\"1\" class=\"dataframe\">\n",
       "  <thead>\n",
       "    <tr style=\"text-align: right;\">\n",
       "      <th></th>\n",
       "      <th>CMPLNT_NUM</th>\n",
       "      <th>CMPLNT_FR_DT</th>\n",
       "      <th>CMPLNT_FR_TM</th>\n",
       "      <th>ADDR_PCT_CD</th>\n",
       "    </tr>\n",
       "  </thead>\n",
       "  <tbody>\n",
       "    <tr>\n",
       "      <th>0</th>\n",
       "      <td>822760976</td>\n",
       "      <td>1983/3/3</td>\n",
       "      <td>21:30:00</td>\n",
       "      <td>10</td>\n",
       "    </tr>\n",
       "    <tr>\n",
       "      <th>1</th>\n",
       "      <td>267058046</td>\n",
       "      <td>1986/2/7</td>\n",
       "      <td>21:00:00</td>\n",
       "      <td>109</td>\n",
       "    </tr>\n",
       "    <tr>\n",
       "      <th>2</th>\n",
       "      <td>712268575</td>\n",
       "      <td>1987/2/25</td>\n",
       "      <td>12:00:00</td>\n",
       "      <td>62</td>\n",
       "    </tr>\n",
       "    <tr>\n",
       "      <th>3</th>\n",
       "      <td>761641495</td>\n",
       "      <td>1987/9/18</td>\n",
       "      <td>0:01:00</td>\n",
       "      <td>25</td>\n",
       "    </tr>\n",
       "    <tr>\n",
       "      <th>4</th>\n",
       "      <td>710136073</td>\n",
       "      <td>1991/1/1</td>\n",
       "      <td>6:00:00</td>\n",
       "      <td>110</td>\n",
       "    </tr>\n",
       "  </tbody>\n",
       "</table>\n",
       "</div>"
      ],
      "text/plain": [
       "   CMPLNT_NUM CMPLNT_FR_DT CMPLNT_FR_TM  ADDR_PCT_CD\n",
       "0   822760976     1983/3/3     21:30:00           10\n",
       "1   267058046     1986/2/7     21:00:00          109\n",
       "2   712268575    1987/2/25     12:00:00           62\n",
       "3   761641495    1987/9/18      0:01:00           25\n",
       "4   710136073     1991/1/1      6:00:00          110"
      ]
     },
     "execution_count": 16,
     "metadata": {},
     "output_type": "execute_result"
    }
   ],
   "source": [
    "import pandas as pd\n",
    "df =pd.read_csv('NYPD_Data.csv')\n",
    "df=df[['CMPLNT_NUM', 'CMPLNT_FR_DT', 'CMPLNT_FR_TM', 'ADDR_PCT_CD']]\n",
    "df.head()"
   ]
  },
  {
   "cell_type": "code",
   "execution_count": 17,
   "metadata": {
    "collapsed": false
   },
   "outputs": [
    {
     "data": {
      "text/html": [
       "<div>\n",
       "<table border=\"1\" class=\"dataframe\">\n",
       "  <thead>\n",
       "    <tr style=\"text-align: right;\">\n",
       "      <th></th>\n",
       "      <th>CMPLNT_NUM</th>\n",
       "      <th>CMPLNT_FR_DT</th>\n",
       "      <th>CMPLNT_FR_TM</th>\n",
       "      <th>ADDR_PCT_CD</th>\n",
       "    </tr>\n",
       "  </thead>\n",
       "  <tbody>\n",
       "    <tr>\n",
       "      <th>0</th>\n",
       "      <td>822760976</td>\n",
       "      <td>1983/3/3</td>\n",
       "      <td>21</td>\n",
       "      <td>10</td>\n",
       "    </tr>\n",
       "    <tr>\n",
       "      <th>1</th>\n",
       "      <td>267058046</td>\n",
       "      <td>1986/2/7</td>\n",
       "      <td>21</td>\n",
       "      <td>109</td>\n",
       "    </tr>\n",
       "    <tr>\n",
       "      <th>2</th>\n",
       "      <td>712268575</td>\n",
       "      <td>1987/2/25</td>\n",
       "      <td>12</td>\n",
       "      <td>62</td>\n",
       "    </tr>\n",
       "    <tr>\n",
       "      <th>3</th>\n",
       "      <td>761641495</td>\n",
       "      <td>1987/9/18</td>\n",
       "      <td>0</td>\n",
       "      <td>25</td>\n",
       "    </tr>\n",
       "    <tr>\n",
       "      <th>4</th>\n",
       "      <td>710136073</td>\n",
       "      <td>1991/1/1</td>\n",
       "      <td>6</td>\n",
       "      <td>110</td>\n",
       "    </tr>\n",
       "  </tbody>\n",
       "</table>\n",
       "</div>"
      ],
      "text/plain": [
       "   CMPLNT_NUM CMPLNT_FR_DT  CMPLNT_FR_TM  ADDR_PCT_CD\n",
       "0   822760976     1983/3/3            21           10\n",
       "1   267058046     1986/2/7            21          109\n",
       "2   712268575    1987/2/25            12           62\n",
       "3   761641495    1987/9/18             0           25\n",
       "4   710136073     1991/1/1             6          110"
      ]
     },
     "execution_count": 17,
     "metadata": {},
     "output_type": "execute_result"
    }
   ],
   "source": [
    "Hour = pd.to_datetime(df['CMPLNT_FR_TM']).dt.hour\n",
    "df['CMPLNT_FR_TM'] = Hour\n",
    "df.head()"
   ]
  },
  {
   "cell_type": "code",
   "execution_count": 18,
   "metadata": {
    "collapsed": false
   },
   "outputs": [
    {
     "data": {
      "text/plain": [
       "CMPLNT_FR_DT  CMPLNT_FR_TM  ADDR_PCT_CD\n",
       "1983/3/3      21            10             1\n",
       "1986/2/7      21            109            1\n",
       "1987/2/25     12            62             1\n",
       "1987/9/18     0             25             1\n",
       "1991/1/1      6             110            1\n",
       "1993/10/17    12            23             1\n",
       "1995/1/1      12            69             1\n",
       "1997/6/27     8             75             1\n",
       "1998/1/1      0             61             1\n",
       "1999/1/5      9             105            1\n",
       "2000/5/1      0             114            2\n",
       "2000/8/30     21            49             1\n",
       "2001/1/1      0             67             1\n",
       "                            103            1\n",
       "2001/1/23     14            19             1\n",
       "2001/1/5      12            60             1\n",
       "2001/11/21    0             48             1\n",
       "2001/12/31    16            84             1\n",
       "2001/6/20     19            46             1\n",
       "2001/9/1      16            75             1\n",
       "2002/1/1      0             113            1\n",
       "              1             41             1\n",
       "2003/1/1      0             62             1\n",
       "2003/2/1      12            105            1\n",
       "2003/9/1      0             40             1\n",
       "2004/1/1      0             44             1\n",
       "              12            70             1\n",
       "              19            7              1\n",
       "2004/10/31    17            6              1\n",
       "2004/3/1      3             70             1\n",
       "                                          ..\n",
       "2016/4/9      23            19             2\n",
       "                            28             1\n",
       "                            32             1\n",
       "                            33             1\n",
       "                            42             1\n",
       "                            43             7\n",
       "                            46             2\n",
       "                            49             1\n",
       "                            52             5\n",
       "                            61             2\n",
       "                            69             1\n",
       "                            71             1\n",
       "                            72             1\n",
       "                            73             1\n",
       "                            75             4\n",
       "                            76             1\n",
       "                            78             1\n",
       "                            79             1\n",
       "                            90             1\n",
       "                            102            3\n",
       "                            103            1\n",
       "                            104            3\n",
       "                            105            2\n",
       "                            106            1\n",
       "                            108            2\n",
       "                            109            2\n",
       "                            113            1\n",
       "                            115            2\n",
       "                            120            1\n",
       "                            121            1\n",
       "dtype: int64"
      ]
     },
     "execution_count": 18,
     "metadata": {},
     "output_type": "execute_result"
    }
   ],
   "source": [
    "import numpy as np\n",
    "df_ = df.groupby(['CMPLNT_FR_DT', 'CMPLNT_FR_TM','ADDR_PCT_CD']).size()\n",
    "df_"
   ]
  },
  {
   "cell_type": "code",
   "execution_count": 43,
   "metadata": {
    "collapsed": false
   },
   "outputs": [
    {
     "name": "stdout",
     "output_type": "stream",
     "text": [
      "[ 3.  4.  2. ...,  5.  5.  5.]\n"
     ]
    }
   ],
   "source": [
    "X1 = df_.index.get_level_values(0).astype('str')\n",
    "X1 = np.array(X1)\n",
    "X1 = pd.to_datetime(X1)\n",
    "X1 = X1.dayofweek\n",
    "X1 = np.array(X1).astype('float')\n",
    "print X1"
   ]
  },
  {
   "cell_type": "code",
   "execution_count": 44,
   "metadata": {
    "collapsed": false
   },
   "outputs": [],
   "source": [
    "X2 = df_.index.get_level_values(1).astype('float')\n",
    "X2 = np.array(X2)\n",
    "X3 = df_.index.get_level_values(2).astype('float')\n",
    "X3 = np.array(X3)\n",
    "X = np.transpose(np.array([X1,X2,X3]))\n",
    "Y = df_.values\n"
   ]
  },
  {
   "cell_type": "code",
   "execution_count": 49,
   "metadata": {
    "collapsed": false
   },
   "outputs": [
    {
     "name": "stdout",
     "output_type": "stream",
     "text": [
      "[1]\n"
     ]
    },
    {
     "name": "stderr",
     "output_type": "stream",
     "text": [
      "/Users/liweiyi/anaconda/lib/python2.7/site-packages/sklearn/utils/validation.py:395: DeprecationWarning: Passing 1d arrays as data is deprecated in 0.17 and will raise ValueError in 0.19. Reshape your data either using X.reshape(-1, 1) if your data has a single feature or X.reshape(1, -1) if it contains a single sample.\n",
      "  DeprecationWarning)\n"
     ]
    }
   ],
   "source": [
    "from sklearn.ensemble import RandomForestClassifier\n",
    "CLS = RandomForestClassifier(max_depth=10)\n",
    "CLS.fit(X,Y)\n",
    "Z = CLS.predict([3, 5 , 1])\n",
    "print Z"
   ]
  },
  {
   "cell_type": "code",
   "execution_count": null,
   "metadata": {
    "collapsed": true
   },
   "outputs": [],
   "source": []
  }
 ],
 "metadata": {
  "anaconda-cloud": {},
  "kernelspec": {
   "display_name": "Python 2",
   "language": "python",
   "name": "python2"
  },
  "language_info": {
   "codemirror_mode": {
    "name": "ipython",
    "version": 2
   },
   "file_extension": ".py",
   "mimetype": "text/x-python",
   "name": "python",
   "nbconvert_exporter": "python",
   "pygments_lexer": "ipython2",
   "version": "2.7.11"
  }
 },
 "nbformat": 4,
 "nbformat_minor": 2
}
