{
 "cells": [
  {
   "cell_type": "code",
   "execution_count": 1,
   "metadata": {
    "collapsed": false
   },
   "outputs": [
    {
     "data": {
      "text/html": [
       "<div>\n",
       "<table border=\"1\" class=\"dataframe\">\n",
       "  <thead>\n",
       "    <tr style=\"text-align: right;\">\n",
       "      <th></th>\n",
       "      <th>CMPLNT_NUM</th>\n",
       "      <th>CMPLNT_FR_DT</th>\n",
       "      <th>CMPLNT_FR_TM</th>\n",
       "      <th>CMPLNT_TO_DT</th>\n",
       "      <th>CMPLNT_TO_TM</th>\n",
       "      <th>RPT_DT</th>\n",
       "      <th>KY_CD</th>\n",
       "      <th>OFNS_DESC</th>\n",
       "      <th>PD_CD</th>\n",
       "      <th>PD_DESC</th>\n",
       "      <th>...</th>\n",
       "      <th>ADDR_PCT_CD</th>\n",
       "      <th>LOC_OF_OCCUR_DESC</th>\n",
       "      <th>PREM_TYP_DESC</th>\n",
       "      <th>PARKS_NM</th>\n",
       "      <th>HADEVELOPT</th>\n",
       "      <th>X_COORD_CD</th>\n",
       "      <th>Y_COORD_CD</th>\n",
       "      <th>Latitude</th>\n",
       "      <th>Longitude</th>\n",
       "      <th>Lat_Lon</th>\n",
       "    </tr>\n",
       "  </thead>\n",
       "  <tbody>\n",
       "    <tr>\n",
       "      <th>0</th>\n",
       "      <td>610264673</td>\n",
       "      <td>1/1/01</td>\n",
       "      <td>0:00:00</td>\n",
       "      <td>1/1/11</td>\n",
       "      <td>23:59:00</td>\n",
       "      <td>3/6/16</td>\n",
       "      <td>233</td>\n",
       "      <td>SEX CRIMES</td>\n",
       "      <td>175.0</td>\n",
       "      <td>SEXUAL ABUSE 3,2</td>\n",
       "      <td>...</td>\n",
       "      <td>103</td>\n",
       "      <td>INSIDE</td>\n",
       "      <td>RESIDENCE-HOUSE</td>\n",
       "      <td>NaN</td>\n",
       "      <td>DOUGLASS</td>\n",
       "      <td>1058292.0</td>\n",
       "      <td>177541.0</td>\n",
       "      <td>40.653684</td>\n",
       "      <td>-73.733157</td>\n",
       "      <td>(40.653684386, -73.73315744)</td>\n",
       "    </tr>\n",
       "    <tr>\n",
       "      <th>1</th>\n",
       "      <td>987418098</td>\n",
       "      <td>1/1/01</td>\n",
       "      <td>0:01:00</td>\n",
       "      <td>12/31/03</td>\n",
       "      <td>23:59:00</td>\n",
       "      <td>1/14/16</td>\n",
       "      <td>233</td>\n",
       "      <td>SEX CRIMES</td>\n",
       "      <td>175.0</td>\n",
       "      <td>SEXUAL ABUSE 3,2</td>\n",
       "      <td>...</td>\n",
       "      <td>67</td>\n",
       "      <td>INSIDE</td>\n",
       "      <td>CHURCH</td>\n",
       "      <td>NaN</td>\n",
       "      <td>NaN</td>\n",
       "      <td>NaN</td>\n",
       "      <td>NaN</td>\n",
       "      <td>NaN</td>\n",
       "      <td>NaN</td>\n",
       "      <td>NaN</td>\n",
       "    </tr>\n",
       "    <tr>\n",
       "      <th>2</th>\n",
       "      <td>450433196</td>\n",
       "      <td>1/5/01</td>\n",
       "      <td>12:00:00</td>\n",
       "      <td>3/5/16</td>\n",
       "      <td>14:00:00</td>\n",
       "      <td>3/5/16</td>\n",
       "      <td>112</td>\n",
       "      <td>THEFT-FRAUD</td>\n",
       "      <td>739.0</td>\n",
       "      <td>FRAUD,UNCLASSIFIED-FELONY</td>\n",
       "      <td>...</td>\n",
       "      <td>60</td>\n",
       "      <td>INSIDE</td>\n",
       "      <td>RESIDENCE-HOUSE</td>\n",
       "      <td>NaN</td>\n",
       "      <td>NaN</td>\n",
       "      <td>983408.0</td>\n",
       "      <td>149079.0</td>\n",
       "      <td>40.575872</td>\n",
       "      <td>-74.003032</td>\n",
       "      <td>(40.575871566, -74.003032428)</td>\n",
       "    </tr>\n",
       "    <tr>\n",
       "      <th>3</th>\n",
       "      <td>208561080</td>\n",
       "      <td>1/23/01</td>\n",
       "      <td>14:15:00</td>\n",
       "      <td>1/23/16</td>\n",
       "      <td>14:30:00</td>\n",
       "      <td>1/23/16</td>\n",
       "      <td>344</td>\n",
       "      <td>ASSAULT 3 &amp; RELATED OFFENSES</td>\n",
       "      <td>101.0</td>\n",
       "      <td>ASSAULT 3</td>\n",
       "      <td>...</td>\n",
       "      <td>19</td>\n",
       "      <td>FRONT OF</td>\n",
       "      <td>CANDY STORE</td>\n",
       "      <td>NaN</td>\n",
       "      <td>NaN</td>\n",
       "      <td>995566.0</td>\n",
       "      <td>221494.0</td>\n",
       "      <td>40.774627</td>\n",
       "      <td>-73.959145</td>\n",
       "      <td>(40.77462717, -73.959145095)</td>\n",
       "    </tr>\n",
       "    <tr>\n",
       "      <th>4</th>\n",
       "      <td>495598950</td>\n",
       "      <td>6/20/01</td>\n",
       "      <td>19:00:00</td>\n",
       "      <td>5/10/12</td>\n",
       "      <td>8:00:00</td>\n",
       "      <td>1/21/16</td>\n",
       "      <td>340</td>\n",
       "      <td>FRAUDS</td>\n",
       "      <td>718.0</td>\n",
       "      <td>FRAUD,UNCLASSIFIED-MISDEMEANOR</td>\n",
       "      <td>...</td>\n",
       "      <td>46</td>\n",
       "      <td>NaN</td>\n",
       "      <td>RESIDENCE - APT. HOUSE</td>\n",
       "      <td>NaN</td>\n",
       "      <td>NaN</td>\n",
       "      <td>1012077.0</td>\n",
       "      <td>249074.0</td>\n",
       "      <td>40.850290</td>\n",
       "      <td>-73.899418</td>\n",
       "      <td>(40.850289992, -73.899417923)</td>\n",
       "    </tr>\n",
       "  </tbody>\n",
       "</table>\n",
       "<p>5 rows × 24 columns</p>\n",
       "</div>"
      ],
      "text/plain": [
       "   CMPLNT_NUM CMPLNT_FR_DT CMPLNT_FR_TM CMPLNT_TO_DT CMPLNT_TO_TM   RPT_DT  \\\n",
       "0   610264673       1/1/01      0:00:00       1/1/11     23:59:00   3/6/16   \n",
       "1   987418098       1/1/01      0:01:00     12/31/03     23:59:00  1/14/16   \n",
       "2   450433196       1/5/01     12:00:00       3/5/16     14:00:00   3/5/16   \n",
       "3   208561080      1/23/01     14:15:00      1/23/16     14:30:00  1/23/16   \n",
       "4   495598950      6/20/01     19:00:00      5/10/12      8:00:00  1/21/16   \n",
       "\n",
       "   KY_CD                     OFNS_DESC  PD_CD                         PD_DESC  \\\n",
       "0    233                    SEX CRIMES  175.0                SEXUAL ABUSE 3,2   \n",
       "1    233                    SEX CRIMES  175.0                SEXUAL ABUSE 3,2   \n",
       "2    112                   THEFT-FRAUD  739.0       FRAUD,UNCLASSIFIED-FELONY   \n",
       "3    344  ASSAULT 3 & RELATED OFFENSES  101.0                       ASSAULT 3   \n",
       "4    340                        FRAUDS  718.0  FRAUD,UNCLASSIFIED-MISDEMEANOR   \n",
       "\n",
       "               ...               ADDR_PCT_CD LOC_OF_OCCUR_DESC  \\\n",
       "0              ...                       103            INSIDE   \n",
       "1              ...                        67            INSIDE   \n",
       "2              ...                        60            INSIDE   \n",
       "3              ...                        19          FRONT OF   \n",
       "4              ...                        46               NaN   \n",
       "\n",
       "            PREM_TYP_DESC PARKS_NM  HADEVELOPT X_COORD_CD Y_COORD_CD  \\\n",
       "0         RESIDENCE-HOUSE      NaN    DOUGLASS  1058292.0   177541.0   \n",
       "1                  CHURCH      NaN         NaN        NaN        NaN   \n",
       "2         RESIDENCE-HOUSE      NaN         NaN   983408.0   149079.0   \n",
       "3             CANDY STORE      NaN         NaN   995566.0   221494.0   \n",
       "4  RESIDENCE - APT. HOUSE      NaN         NaN  1012077.0   249074.0   \n",
       "\n",
       "    Latitude  Longitude                        Lat_Lon  \n",
       "0  40.653684 -73.733157   (40.653684386, -73.73315744)  \n",
       "1        NaN        NaN                            NaN  \n",
       "2  40.575872 -74.003032  (40.575871566, -74.003032428)  \n",
       "3  40.774627 -73.959145   (40.77462717, -73.959145095)  \n",
       "4  40.850290 -73.899418  (40.850289992, -73.899417923)  \n",
       "\n",
       "[5 rows x 24 columns]"
      ]
     },
     "execution_count": 1,
     "metadata": {},
     "output_type": "execute_result"
    }
   ],
   "source": [
    "import pandas as pd\n",
    "import numpy as np\n",
    "\n",
    "df =pd.read_csv('NYPD_Data.csv')\n",
    "df.head()"
   ]
  },
  {
   "cell_type": "code",
   "execution_count": 2,
   "metadata": {
    "collapsed": false,
    "scrolled": true
   },
   "outputs": [
    {
     "data": {
      "text/html": [
       "<div>\n",
       "<table border=\"1\" class=\"dataframe\">\n",
       "  <thead>\n",
       "    <tr style=\"text-align: right;\">\n",
       "      <th></th>\n",
       "      <th>CMPLNT_NUM</th>\n",
       "      <th>CMPLNT_FR_DT</th>\n",
       "      <th>CMPLNT_FR_TM</th>\n",
       "      <th>ADDR_PCT_CD</th>\n",
       "    </tr>\n",
       "  </thead>\n",
       "  <tbody>\n",
       "    <tr>\n",
       "      <th>0</th>\n",
       "      <td>610264673</td>\n",
       "      <td>1/1/01</td>\n",
       "      <td>0:00:00</td>\n",
       "      <td>103</td>\n",
       "    </tr>\n",
       "    <tr>\n",
       "      <th>1</th>\n",
       "      <td>987418098</td>\n",
       "      <td>1/1/01</td>\n",
       "      <td>0:01:00</td>\n",
       "      <td>67</td>\n",
       "    </tr>\n",
       "    <tr>\n",
       "      <th>2</th>\n",
       "      <td>450433196</td>\n",
       "      <td>1/5/01</td>\n",
       "      <td>12:00:00</td>\n",
       "      <td>60</td>\n",
       "    </tr>\n",
       "    <tr>\n",
       "      <th>3</th>\n",
       "      <td>208561080</td>\n",
       "      <td>1/23/01</td>\n",
       "      <td>14:15:00</td>\n",
       "      <td>19</td>\n",
       "    </tr>\n",
       "    <tr>\n",
       "      <th>4</th>\n",
       "      <td>495598950</td>\n",
       "      <td>6/20/01</td>\n",
       "      <td>19:00:00</td>\n",
       "      <td>46</td>\n",
       "    </tr>\n",
       "  </tbody>\n",
       "</table>\n",
       "</div>"
      ],
      "text/plain": [
       "   CMPLNT_NUM CMPLNT_FR_DT CMPLNT_FR_TM  ADDR_PCT_CD\n",
       "0   610264673       1/1/01      0:00:00          103\n",
       "1   987418098       1/1/01      0:01:00           67\n",
       "2   450433196       1/5/01     12:00:00           60\n",
       "3   208561080      1/23/01     14:15:00           19\n",
       "4   495598950      6/20/01     19:00:00           46"
      ]
     },
     "execution_count": 2,
     "metadata": {},
     "output_type": "execute_result"
    }
   ],
   "source": [
    "df_=df[['CMPLNT_NUM', 'CMPLNT_FR_DT', 'CMPLNT_FR_TM', 'ADDR_PCT_CD']]\n",
    "df_.head()"
   ]
  },
  {
   "cell_type": "code",
   "execution_count": 5,
   "metadata": {
    "collapsed": false
   },
   "outputs": [],
   "source": [
    "#df_['CMPLNT_FR_DT']\n",
    "df__ = pd.to_datetime(df_['CMPLNT_FR_DT'])"
   ]
  },
  {
   "cell_type": "code",
   "execution_count": 29,
   "metadata": {
    "collapsed": false,
    "scrolled": false
   },
   "outputs": [
    {
     "data": {
      "text/plain": [
       "0    1\n",
       "1    1\n",
       "2    1\n",
       "3    1\n",
       "4    6\n",
       "Name: CMPLNT_FR_DT, dtype: int64"
      ]
     },
     "execution_count": 29,
     "metadata": {},
     "output_type": "execute_result"
    }
   ],
   "source": [
    "df_year = df__.dt.year\n",
    "#df_year.head()\n",
    "\n",
    "df_month = df__.dt.month\n",
    "df_month.head()\n",
    "\n",
    "#print np.size(df_year)\n",
    "#print df_year[10]\n",
    "#print np.size(df_month)"
   ]
  },
  {
   "cell_type": "code",
   "execution_count": 31,
   "metadata": {
    "collapsed": false
   },
   "outputs": [
    {
     "name": "stdout",
     "output_type": "stream",
     "text": [
      "[[  8.00000000e+00]\n",
      " [  2.00000000e+00]\n",
      " [  3.00000000e+00]\n",
      " [  7.00000000e+00]\n",
      " [  1.10000000e+01]\n",
      " [  2.80000000e+01]\n",
      " [  1.20000000e+01]\n",
      " [  2.30000000e+01]\n",
      " [  2.30000000e+01]\n",
      " [  4.20000000e+01]\n",
      " [  6.90000000e+01]\n",
      " [  6.90000000e+01]\n",
      " [  1.35000000e+02]\n",
      " [  3.07000000e+02]\n",
      " [  6.27400000e+03]\n",
      " [  1.26657000e+05]]\n"
     ]
    }
   ],
   "source": [
    "year_num = np.zeros((16,1))\n",
    "month_num = np.zeros((24,1))\n",
    "\n",
    "for i in xrange(np.size(df_year)):\n",
    "    if df_year[i] == 2001:\n",
    "        year_num[0] += 1\n",
    "    elif df_year[i] == 2002:\n",
    "        year_num[1] += 1\n",
    "    elif df_year[i] == 2003:\n",
    "        year_num[2] += 1\n",
    "    elif df_year[i] == 2004:\n",
    "        year_num[3] += 1\n",
    "    elif df_year[i] == 2005:\n",
    "        year_num[4] += 1\n",
    "    elif df_year[i] == 2006:\n",
    "        year_num[5] += 1\n",
    "    elif df_year[i] == 2007:\n",
    "        year_num[6] += 1\n",
    "    elif df_year[i] == 2008:\n",
    "        year_num[7] += 1\n",
    "    elif df_year[i] == 2009:\n",
    "        year_num[8] += 1\n",
    "    elif df_year[i] == 2010:\n",
    "        year_num[9] += 1\n",
    "    elif df_year[i] == 2011:\n",
    "        year_num[10] += 1\n",
    "    elif df_year[i] == 2012:\n",
    "        year_num[11] += 1\n",
    "    elif df_year[i] == 2013:\n",
    "        year_num[12] += 1\n",
    "    elif df_year[i] == 2014:\n",
    "        year_num[13] += 1\n",
    "        if df_month[i] == 5:\n",
    "            month_num[0] += 1;\n",
    "        elif df_month[i] == 6:\n",
    "            month_num[1] += 1;\n",
    "        elif df_month[i] == 7:\n",
    "            month_num[2] += 1;\n",
    "        elif df_month[i] == 8:\n",
    "            month_num[3] += 1;\n",
    "        elif df_month[i] == 9:\n",
    "            month_num[4] += 1;\n",
    "        elif df_month[i] == 10:\n",
    "            month_num[5] += 1;\n",
    "        elif df_month[i] == 11:\n",
    "            month_num[6] += 1;\n",
    "        elif df_month[i] == 12:\n",
    "            month_num[7] += 1;\n",
    "    elif df_year[i] == 2015:\n",
    "        year_num[14] += 1\n",
    "        if df_month[i] == 1:\n",
    "            month_num[8] += 1;\n",
    "        elif df_month[i] == 2:\n",
    "            month_num[9] += 1;\n",
    "        elif df_month[i] == 3:\n",
    "            month_num[10] += 1;\n",
    "        elif df_month[i] == 4:\n",
    "            month_num[11] += 1;\n",
    "        elif df_month[i] == 5:\n",
    "            month_num[12] += 1;\n",
    "        elif df_month[i] == 6:\n",
    "            month_num[13] += 1;\n",
    "        elif df_month[i] == 7:\n",
    "            month_num[14] += 1;\n",
    "        elif df_month[i] == 8:\n",
    "            month_num[15] += 1;\n",
    "        elif df_month[i] == 9:\n",
    "            month_num[16] += 1;\n",
    "        elif df_month[i] == 10:\n",
    "            month_num[17] += 1;\n",
    "        elif df_month[i] == 11:\n",
    "            month_num[18] += 1;\n",
    "        elif df_month[i] == 12:\n",
    "            month_num[19] += 1;\n",
    "    elif df_year[i] == 2016:\n",
    "        year_num[15] += 1\n",
    "        if df_month[i] == 1:\n",
    "            month_num[20] += 1;\n",
    "        elif df_month[i] == 2:\n",
    "            month_num[21] += 1;\n",
    "        elif df_month[i] == 3:\n",
    "            month_num[22] += 1;\n",
    "        elif df_month[i] == 4:\n",
    "            month_num[23] += 1;\n",
    "print year_num"
   ]
  },
  {
   "cell_type": "code",
   "execution_count": 32,
   "metadata": {
    "collapsed": false
   },
   "outputs": [
    {
     "name": "stdout",
     "output_type": "stream",
     "text": [
      "[[  9.00000000e+00]\n",
      " [  2.50000000e+01]\n",
      " [  2.20000000e+01]\n",
      " [  1.90000000e+01]\n",
      " [  2.40000000e+01]\n",
      " [  2.00000000e+01]\n",
      " [  4.50000000e+01]\n",
      " [  3.90000000e+01]\n",
      " [  3.17000000e+02]\n",
      " [  1.68000000e+02]\n",
      " [  1.62000000e+02]\n",
      " [  1.37000000e+02]\n",
      " [  1.10000000e+02]\n",
      " [  1.55000000e+02]\n",
      " [  1.76000000e+02]\n",
      " [  2.68000000e+02]\n",
      " [  3.61000000e+02]\n",
      " [  5.82000000e+02]\n",
      " [  8.73000000e+02]\n",
      " [  2.96500000e+03]\n",
      " [  3.69430000e+04]\n",
      " [  3.37370000e+04]\n",
      " [  3.79240000e+04]\n",
      " [  1.80360000e+04]]\n"
     ]
    }
   ],
   "source": [
    "print month_num"
   ]
  },
  {
   "cell_type": "code",
   "execution_count": 33,
   "metadata": {
    "collapsed": false
   },
   "outputs": [
    {
     "data": {
      "text/plain": [
       "[<matplotlib.axis.XTick at 0x11321a1d0>,\n",
       " <matplotlib.axis.XTick at 0x11322d590>,\n",
       " <matplotlib.axis.XTick at 0x113278410>,\n",
       " <matplotlib.axis.XTick at 0x114a6aa90>,\n",
       " <matplotlib.axis.XTick at 0x114a75210>,\n",
       " <matplotlib.axis.XTick at 0x114a75950>,\n",
       " <matplotlib.axis.XTick at 0x114a7f0d0>,\n",
       " <matplotlib.axis.XTick at 0x114a7f810>,\n",
       " <matplotlib.axis.XTick at 0x114a7ff50>,\n",
       " <matplotlib.axis.XTick at 0x11440a6d0>,\n",
       " <matplotlib.axis.XTick at 0x11440ae10>,\n",
       " <matplotlib.axis.XTick at 0x114412590>,\n",
       " <matplotlib.axis.XTick at 0x114412cd0>,\n",
       " <matplotlib.axis.XTick at 0x11441e450>,\n",
       " <matplotlib.axis.XTick at 0x11441eb90>,\n",
       " <matplotlib.axis.XTick at 0x114428310>,\n",
       " <matplotlib.axis.XTick at 0x11322d190>,\n",
       " <matplotlib.axis.XTick at 0x113205bd0>,\n",
       " <matplotlib.axis.XTick at 0x114428a10>,\n",
       " <matplotlib.axis.XTick at 0x114431190>,\n",
       " <matplotlib.axis.XTick at 0x1144318d0>,\n",
       " <matplotlib.axis.XTick at 0x11443d050>,\n",
       " <matplotlib.axis.XTick at 0x11443d790>,\n",
       " <matplotlib.axis.XTick at 0x11443ded0>]"
      ]
     },
     "execution_count": 33,
     "metadata": {},
     "output_type": "execute_result"
    },
    {
     "data": {
      "image/png": "[encoded data removed]",
      "text/plain": [
       "<matplotlib.figure.Figure at 0x111e21dd0>"
      ]
     },
     "metadata": {},
     "output_type": "display_data"
    }
   ],
   "source": [
    "%matplotlib inline\n",
    "\n",
    "import matplotlib.pyplot as plt\n",
    "\n",
    "N = 24\n",
    "ind = np.arange(N)  # the x locations for the groups\n",
    "width = 0.7       # the width of the bars\n",
    "\n",
    "fig, ax = plt.subplots(figsize=(20,7.5))\n",
    "rects1 = ax.bar(ind, month_num, width)#, yerr=men_std)\n",
    "ax.set_ylabel('Frequency(Cases per 6 hours)',fontsize=20)\n",
    "ax.set_xlabel('PCT',fontsize=20)\n",
    "ax.set_xticks(ind + width / 2)"
   ]
  },
  {
   "cell_type": "code",
   "execution_count": 26,
   "metadata": {
    "collapsed": false
   },
   "outputs": [
    {
     "data": {
      "text/plain": [
       "[<matplotlib.axis.XTick at 0x112f6e350>,\n",
       " <matplotlib.axis.XTick at 0x112f6e190>,\n",
       " <matplotlib.axis.XTick at 0x112fafed0>,\n",
       " <matplotlib.axis.XTick at 0x113023110>,\n",
       " <matplotlib.axis.XTick at 0x113023850>,\n",
       " <matplotlib.axis.XTick at 0x113023f90>,\n",
       " <matplotlib.axis.XTick at 0x11302e710>,\n",
       " <matplotlib.axis.XTick at 0x11302ee50>,\n",
       " <matplotlib.axis.XTick at 0x1130375d0>,\n",
       " <matplotlib.axis.XTick at 0x113037d10>,\n",
       " <matplotlib.axis.XTick at 0x113040490>,\n",
       " <matplotlib.axis.XTick at 0x113040bd0>,\n",
       " <matplotlib.axis.XTick at 0x11304c350>,\n",
       " <matplotlib.axis.XTick at 0x11304ca90>,\n",
       " <matplotlib.axis.XTick at 0x113057210>,\n",
       " <matplotlib.axis.XTick at 0x113057950>]"
      ]
     },
     "execution_count": 26,
     "metadata": {},
     "output_type": "execute_result"
    },
    {
     "data": {
      "image/png": "[encoded data removed]",
      "text/plain": [
       "<matplotlib.figure.Figure at 0x111e19650>"
      ]
     },
     "metadata": {},
     "output_type": "display_data"
    }
   ],
   "source": [
    "%matplotlib inline\n",
    "\n",
    "import matplotlib.pyplot as plt\n",
    "\n",
    "N = 16\n",
    "ind = np.arange(N)  # the x locations for the groups\n",
    "width = 0.7       # the width of the bars\n",
    "\n",
    "fig, ax = plt.subplots(figsize=(20,7.5))\n",
    "rects1 = ax.bar(ind, year_num, width)#, yerr=men_std)\n",
    "ax.set_ylabel('Frequency(Cases per 6 hours)',fontsize=20)\n",
    "ax.set_xlabel('PCT',fontsize=20)\n",
    "ax.set_xticks(ind + width / 2)"
   ]
  },
  {
   "cell_type": "code",
   "execution_count": 15,
   "metadata": {
    "collapsed": false
   },
   "outputs": [
    {
     "ename": "TypeError",
     "evalue": "Only valid with DatetimeIndex, TimedeltaIndex or PeriodIndex, but got an instance of 'RangeIndex'",
     "output_type": "error",
     "traceback": [
      "\u001b[0;31m---------------------------------------------------------------------------\u001b[0m",
      "\u001b[0;31mTypeError\u001b[0m                                 Traceback (most recent call last)",
      "\u001b[0;32m<ipython-input-15-8fee0eee73da>\u001b[0m in \u001b[0;36m<module>\u001b[0;34m()\u001b[0m\n\u001b[0;32m----> 1\u001b[0;31m \u001b[0mdf\u001b[0m\u001b[0;34m[\u001b[0m\u001b[0;34m[\u001b[0m\u001b[0;34m'CMPLNT_FR_DT'\u001b[0m\u001b[0;34m]\u001b[0m\u001b[0;34m]\u001b[0m\u001b[0;34m.\u001b[0m\u001b[0mresample\u001b[0m\u001b[0;34m(\u001b[0m\u001b[0;34m'M'\u001b[0m\u001b[0;34m,\u001b[0m \u001b[0mhow\u001b[0m\u001b[0;34m=\u001b[0m\u001b[0;34m'sum'\u001b[0m\u001b[0;34m)\u001b[0m\u001b[0;34m\u001b[0m\u001b[0m\n\u001b[0m",
      "\u001b[0;32m/Users/hongyuanqing/anaconda/lib/python2.7/site-packages/pandas/core/generic.pyc\u001b[0m in \u001b[0;36mresample\u001b[0;34m(self, rule, how, axis, fill_method, closed, label, convention, kind, loffset, limit, base)\u001b[0m\n\u001b[1;32m   3974\u001b[0m                      \u001b[0maxis\u001b[0m\u001b[0;34m=\u001b[0m\u001b[0maxis\u001b[0m\u001b[0;34m,\u001b[0m \u001b[0mkind\u001b[0m\u001b[0;34m=\u001b[0m\u001b[0mkind\u001b[0m\u001b[0;34m,\u001b[0m \u001b[0mloffset\u001b[0m\u001b[0;34m=\u001b[0m\u001b[0mloffset\u001b[0m\u001b[0;34m,\u001b[0m\u001b[0;34m\u001b[0m\u001b[0m\n\u001b[1;32m   3975\u001b[0m                      \u001b[0mconvention\u001b[0m\u001b[0;34m=\u001b[0m\u001b[0mconvention\u001b[0m\u001b[0;34m,\u001b[0m\u001b[0;34m\u001b[0m\u001b[0m\n\u001b[0;32m-> 3976\u001b[0;31m                      base=base)\n\u001b[0m\u001b[1;32m   3977\u001b[0m         return _maybe_process_deprecations(r,\n\u001b[1;32m   3978\u001b[0m                                            \u001b[0mhow\u001b[0m\u001b[0;34m=\u001b[0m\u001b[0mhow\u001b[0m\u001b[0;34m,\u001b[0m\u001b[0;34m\u001b[0m\u001b[0m\n",
      "\u001b[0;32m/Users/hongyuanqing/anaconda/lib/python2.7/site-packages/pandas/tseries/resample.pyc\u001b[0m in \u001b[0;36mresample\u001b[0;34m(obj, kind, **kwds)\u001b[0m\n\u001b[1;32m    896\u001b[0m     \u001b[0;34m\"\"\" create a TimeGrouper and return our resampler \"\"\"\u001b[0m\u001b[0;34m\u001b[0m\u001b[0m\n\u001b[1;32m    897\u001b[0m     \u001b[0mtg\u001b[0m \u001b[0;34m=\u001b[0m \u001b[0mTimeGrouper\u001b[0m\u001b[0;34m(\u001b[0m\u001b[0;34m**\u001b[0m\u001b[0mkwds\u001b[0m\u001b[0;34m)\u001b[0m\u001b[0;34m\u001b[0m\u001b[0m\n\u001b[0;32m--> 898\u001b[0;31m     \u001b[0;32mreturn\u001b[0m \u001b[0mtg\u001b[0m\u001b[0;34m.\u001b[0m\u001b[0m_get_resampler\u001b[0m\u001b[0;34m(\u001b[0m\u001b[0mobj\u001b[0m\u001b[0;34m,\u001b[0m \u001b[0mkind\u001b[0m\u001b[0;34m=\u001b[0m\u001b[0mkind\u001b[0m\u001b[0;34m)\u001b[0m\u001b[0;34m\u001b[0m\u001b[0m\n\u001b[0m\u001b[1;32m    899\u001b[0m \u001b[0mresample\u001b[0m\u001b[0;34m.\u001b[0m\u001b[0m__doc__\u001b[0m \u001b[0;34m=\u001b[0m \u001b[0mResampler\u001b[0m\u001b[0;34m.\u001b[0m\u001b[0m__doc__\u001b[0m\u001b[0;34m\u001b[0m\u001b[0m\n\u001b[1;32m    900\u001b[0m \u001b[0;34m\u001b[0m\u001b[0m\n",
      "\u001b[0;32m/Users/hongyuanqing/anaconda/lib/python2.7/site-packages/pandas/tseries/resample.pyc\u001b[0m in \u001b[0;36m_get_resampler\u001b[0;34m(self, obj, kind)\u001b[0m\n\u001b[1;32m   1010\u001b[0m         raise TypeError(\"Only valid with DatetimeIndex, \"\n\u001b[1;32m   1011\u001b[0m                         \u001b[0;34m\"TimedeltaIndex or PeriodIndex, \"\u001b[0m\u001b[0;34m\u001b[0m\u001b[0m\n\u001b[0;32m-> 1012\u001b[0;31m                         \"but got an instance of %r\" % type(ax).__name__)\n\u001b[0m\u001b[1;32m   1013\u001b[0m \u001b[0;34m\u001b[0m\u001b[0m\n\u001b[1;32m   1014\u001b[0m     \u001b[0;32mdef\u001b[0m \u001b[0m_get_grouper\u001b[0m\u001b[0;34m(\u001b[0m\u001b[0mself\u001b[0m\u001b[0;34m,\u001b[0m \u001b[0mobj\u001b[0m\u001b[0;34m)\u001b[0m\u001b[0;34m:\u001b[0m\u001b[0;34m\u001b[0m\u001b[0m\n",
      "\u001b[0;31mTypeError\u001b[0m: Only valid with DatetimeIndex, TimedeltaIndex or PeriodIndex, but got an instance of 'RangeIndex'"
     ]
    }
   ],
   "source": [
    "df[['CMPLNT_FR_DT']].resample('M', how='sum')"
   ]
  },
  {
   "cell_type": "code",
   "execution_count": 3,
   "metadata": {
    "collapsed": false,
    "scrolled": false
   },
   "outputs": [
    {
     "name": "stderr",
     "output_type": "stream",
     "text": [
      "/Users/hongyuanqing/anaconda/lib/python2.7/site-packages/ipykernel/__main__.py:4: SettingWithCopyWarning: \n",
      "A value is trying to be set on a copy of a slice from a DataFrame.\n",
      "Try using .loc[row_indexer,col_indexer] = value instead\n",
      "\n",
      "See the caveats in the documentation: http://pandas.pydata.org/pandas-docs/stable/indexing.html#indexing-view-versus-copy\n",
      "/Users/hongyuanqing/anaconda/lib/python2.7/site-packages/ipykernel/__main__.py:6: SettingWithCopyWarning: \n",
      "A value is trying to be set on a copy of a slice from a DataFrame.\n",
      "Try using .loc[row_indexer,col_indexer] = value instead\n",
      "\n",
      "See the caveats in the documentation: http://pandas.pydata.org/pandas-docs/stable/indexing.html#indexing-view-versus-copy\n"
     ]
    },
    {
     "data": {
      "text/html": [
       "<div>\n",
       "<table border=\"1\" class=\"dataframe\">\n",
       "  <thead>\n",
       "    <tr style=\"text-align: right;\">\n",
       "      <th></th>\n",
       "      <th>CMPLNT_NUM</th>\n",
       "      <th>CMPLNT_FR_DT</th>\n",
       "      <th>CMPLNT_FR_TM</th>\n",
       "      <th>ADDR_PCT_CD</th>\n",
       "    </tr>\n",
       "  </thead>\n",
       "  <tbody>\n",
       "    <tr>\n",
       "      <th>0</th>\n",
       "      <td>394278393</td>\n",
       "      <td>3</td>\n",
       "      <td>1.5</td>\n",
       "      <td>41</td>\n",
       "    </tr>\n",
       "    <tr>\n",
       "      <th>1</th>\n",
       "      <td>722254800</td>\n",
       "      <td>3</td>\n",
       "      <td>0.0</td>\n",
       "      <td>77</td>\n",
       "    </tr>\n",
       "    <tr>\n",
       "      <th>2</th>\n",
       "      <td>530381050</td>\n",
       "      <td>3</td>\n",
       "      <td>0.0</td>\n",
       "      <td>47</td>\n",
       "    </tr>\n",
       "    <tr>\n",
       "      <th>3</th>\n",
       "      <td>429186741</td>\n",
       "      <td>3</td>\n",
       "      <td>2.0</td>\n",
       "      <td>50</td>\n",
       "    </tr>\n",
       "    <tr>\n",
       "      <th>4</th>\n",
       "      <td>388921549</td>\n",
       "      <td>3</td>\n",
       "      <td>0.0</td>\n",
       "      <td>88</td>\n",
       "    </tr>\n",
       "  </tbody>\n",
       "</table>\n",
       "</div>"
      ],
      "text/plain": [
       "   CMPLNT_NUM  CMPLNT_FR_DT  CMPLNT_FR_TM  ADDR_PCT_CD\n",
       "0   394278393             3           1.5           41\n",
       "1   722254800             3           0.0           77\n",
       "2   530381050             3           0.0           47\n",
       "3   429186741             3           2.0           50\n",
       "4   388921549             3           0.0           88"
      ]
     },
     "execution_count": 3,
     "metadata": {},
     "output_type": "execute_result"
    }
   ],
   "source": [
    "df_['CMPLNT_FR_DT'] = df_weekdays\n",
    "df____ = pd.to_datetime(df_['CMPLNT_FR_TM']).dt.hour\n",
    "df_['CMPLNT_FR_TM'] = df____[:]/6\n",
    "df_['CMPLNT_FR_TM'].astype(int)\n",
    "Day_num = 67\n",
    "Training_day = 54.0\n",
    "Testing_day = 13.0\n",
    "df_.head()"
   ]
  },
  {
   "cell_type": "code",
   "execution_count": 4,
   "metadata": {
    "collapsed": false
   },
   "outputs": [],
   "source": [
    "from sklearn.model_selection import train_test_split\n",
    "train, test = train_test_split(df_, test_size = 0.194)"
   ]
  },
  {
   "cell_type": "code",
   "execution_count": 5,
   "metadata": {
    "collapsed": false,
    "scrolled": false
   },
   "outputs": [],
   "source": [
    "X1 = []\n",
    "X2 = []\n",
    "X3 = []\n",
    "Y_test = []\n",
    "Y_train = []\n",
    "\n",
    "for day in range(7):\n",
    "    for hour in range(4):\n",
    "        for PCT in range(34):\n",
    "            X1.append(day)\n",
    "            X2.append(hour)\n",
    "            X3.append(PCT)\n",
    "            Y_test.append(0.0)\n",
    "            Y_train.append(0.0)\n",
    "            \n",
    "X1 = np.array(X1)\n",
    "X2 = np.array(X2)\n",
    "X3 = np.array(X3)\n",
    "X = np.transpose(np.array([X1,X2,X3]))            \n",
    "Y_train = np.array(Y_train)\n",
    "Y_test = np.array(Y_test)\n",
    "\n",
    "def calculate_frequency(df_,Num_day,Y):\n",
    "    CrimeNum = df_.shape[0]\n",
    "    for i in range(CrimeNum):\n",
    "        if df_.iloc[i,3] <= 34:\n",
    "            day_ = df_.iloc[i,1]\n",
    "            hour_ = int(df_.iloc[i,2])\n",
    "            #print hour_\n",
    "            #print type(hour_)\n",
    "            PCT_ = df_.iloc[i,3]\n",
    "            Y[int(day_*4*34+hour_*34+PCT_-1)] += 1.0\n",
    "    Y = Y/Num_day\n",
    "    return Y\n",
    "\n",
    "Y_train = calculate_frequency(train,Training_day,Y_train)\n",
    "Y_test = calculate_frequency(test,Testing_day,Y_test)"
   ]
  },
  {
   "cell_type": "code",
   "execution_count": 6,
   "metadata": {
    "collapsed": false
   },
   "outputs": [
    {
     "data": {
      "text/plain": [
       "RandomForestRegressor(bootstrap=True, criterion='mse', max_depth=50,\n",
       "           max_features='auto', max_leaf_nodes=None,\n",
       "           min_impurity_split=1e-07, min_samples_leaf=1,\n",
       "           min_samples_split=2, min_weight_fraction_leaf=0.0,\n",
       "           n_estimators=20, n_jobs=1, oob_score=False, random_state=None,\n",
       "           verbose=0, warm_start=False)"
      ]
     },
     "execution_count": 6,
     "metadata": {},
     "output_type": "execute_result"
    }
   ],
   "source": [
    "\n",
    "from sklearn.ensemble import RandomForestRegressor\n",
    "CLS = RandomForestRegressor(max_depth=50,n_estimators=20)\n",
    "CLS.fit(X,Y_train)"
   ]
  },
  {
   "cell_type": "code",
   "execution_count": 7,
   "metadata": {
    "collapsed": false
   },
   "outputs": [
    {
     "name": "stdout",
     "output_type": "stream",
     "text": [
      "0.878759302748\n"
     ]
    }
   ],
   "source": [
    "print CLS.score(X,Y_test)"
   ]
  },
  {
   "cell_type": "code",
   "execution_count": 9,
   "metadata": {
    "collapsed": true
   },
   "outputs": [],
   "source": [
    "Y = CLS.predict(X)"
   ]
  },
  {
   "cell_type": "code",
   "execution_count": 10,
   "metadata": {
    "collapsed": false
   },
   "outputs": [
    {
     "name": "stdout",
     "output_type": "stream",
     "text": [
      "[  3.44444444e-01   0.00000000e+00   0.00000000e+00   0.00000000e+00\n",
      "   2.62962963e-01   4.06481481e-01   2.71296296e-01   0.00000000e+00\n",
      "   3.14814815e-01   3.32407407e-01   0.00000000e+00   0.00000000e+00\n",
      "   3.87962963e-01   4.46296296e-01   0.00000000e+00   0.00000000e+00\n",
      "   2.37037037e-01   3.61111111e-01   2.71296296e-01   3.27777778e-01\n",
      "   4.62962963e-03   1.01851852e-02   4.46296296e-01   4.13888889e-01\n",
      "   3.24074074e-01   1.70370370e-01   0.00000000e+00   2.62037037e-01\n",
      "   1.11111111e-02   2.91666667e-01   0.00000000e+00   3.75000000e-01\n",
      "   3.70370370e-01   7.76851852e-01   8.00925926e-01   0.00000000e+00\n",
      "   0.00000000e+00   0.00000000e+00   4.37962963e-01   4.39814815e-01\n",
      "   4.22222222e-01   0.00000000e+00   4.25000000e-01   4.27777778e-01\n",
      "   0.00000000e+00   0.00000000e+00   9.46296296e-01   1.12685185e+00\n",
      "   0.00000000e+00   0.00000000e+00   3.87962963e-01   7.70370370e-01\n",
      "   7.87037037e-01   5.37037037e-01   4.44444444e-02   3.98148148e-02\n",
      "   7.68518519e-01   6.06481481e-01   6.84259259e-01   3.49074074e-01\n",
      "   0.00000000e+00   5.01851852e-01   0.00000000e+00   4.09259259e-01\n",
      "   2.12962963e-02   6.19444444e-01   3.81481481e-01   4.97222222e-01\n",
      "   1.70925926e+00   0.00000000e+00   0.00000000e+00   0.00000000e+00\n",
      "   1.41388889e+00   8.51851852e-01   8.49074074e-01   0.00000000e+00\n",
      "   7.88888889e-01   7.59259259e-01   0.00000000e+00   0.00000000e+00\n",
      "   1.67129630e+00   2.60000000e+00   0.00000000e+00   0.00000000e+00\n",
      "   8.15740741e-01   1.75462963e+00   1.33703704e+00   9.28703704e-01\n",
      "   0.00000000e+00   2.31481481e-02   1.47314815e+00   8.92592593e-01\n",
      "   1.08518519e+00   5.48148148e-01   0.00000000e+00   1.03703704e+00\n",
      "   0.00000000e+00   6.79629630e-01   0.00000000e+00   1.10462963e+00\n",
      "   8.62037037e-01   9.73148148e-01   7.39814815e-01   0.00000000e+00\n",
      "   0.00000000e+00   0.00000000e+00   3.94444444e-01   5.29629630e-01\n",
      "   4.48148148e-01   0.00000000e+00   7.12037037e-01   4.29629630e-01\n",
      "   0.00000000e+00   0.00000000e+00   9.54629630e-01   1.66944444e+00\n",
      "   0.00000000e+00   0.00000000e+00   5.15740741e-01   1.33148148e+00\n",
      "   9.16666667e-01   4.61111111e-01   0.00000000e+00   6.01851852e-02\n",
      "   1.27592593e+00   6.48148148e-01   8.75925926e-01   3.53703704e-01\n",
      "   0.00000000e+00   8.69444444e-01   0.00000000e+00   6.36111111e-01\n",
      "   0.00000000e+00   9.27777778e-01   6.63888889e-01   8.33333333e-01\n",
      "   3.24074074e-01   0.00000000e+00   0.00000000e+00   0.00000000e+00\n",
      "   2.97222222e-01   2.43518519e-01   1.75925926e-01   0.00000000e+00\n",
      "   3.84259259e-01   2.54629630e-01   0.00000000e+00   0.00000000e+00\n",
      "   3.91666667e-01   4.65740741e-01   0.00000000e+00   0.00000000e+00\n",
      "   2.64814815e-01   3.27777778e-01   2.68518519e-01   3.14814815e-01\n",
      "   9.25925926e-04   1.85185185e-03   5.10185185e-01   3.78703704e-01\n",
      "   3.64814815e-01   2.08333333e-01   0.00000000e+00   3.26851852e-01\n",
      "   1.57407407e-02   3.27777778e-01   0.00000000e+00   4.31481481e-01\n",
      "   5.03703704e-01   8.25925926e-01   8.02777778e-01   0.00000000e+00\n",
      "   0.00000000e+00   0.00000000e+00   4.40740741e-01   4.00000000e-01\n",
      "   4.16666667e-01   0.00000000e+00   5.05555556e-01   4.22222222e-01\n",
      "   0.00000000e+00   0.00000000e+00   8.47222222e-01   9.32407407e-01\n",
      "   0.00000000e+00   0.00000000e+00   4.62962963e-01   8.21296296e-01\n",
      "   8.14814815e-01   7.00925926e-01   3.88888889e-02   3.79629630e-02\n",
      "   7.30555556e-01   4.84259259e-01   6.62962963e-01   3.33333333e-01\n",
      "   0.00000000e+00   5.43518519e-01   0.00000000e+00   4.44444444e-01\n",
      "   2.12962963e-02   7.27777778e-01   4.29629630e-01   4.60185185e-01\n",
      "   1.83425926e+00   0.00000000e+00   0.00000000e+00   0.00000000e+00\n",
      "   1.39444444e+00   9.35185185e-01   8.65740741e-01   0.00000000e+00\n",
      "   1.06944444e+00   1.02685185e+00   0.00000000e+00   0.00000000e+00\n",
      "   1.67129630e+00   2.87500000e+00   0.00000000e+00   0.00000000e+00\n",
      "   7.76851852e-01   1.60555556e+00   1.35648148e+00   9.35185185e-01\n",
      "   0.00000000e+00   2.40740741e-02   1.35555556e+00   1.08611111e+00\n",
      "   1.29166667e+00   5.65740741e-01   0.00000000e+00   1.22592593e+00\n",
      "   0.00000000e+00   8.18518519e-01   0.00000000e+00   1.34166667e+00\n",
      "   8.82407407e-01   9.73148148e-01   7.17592593e-01   0.00000000e+00\n",
      "   0.00000000e+00   0.00000000e+00   6.83333333e-01   7.32407407e-01\n",
      "   6.88888889e-01   0.00000000e+00   9.39814815e-01   5.22222222e-01\n",
      "   0.00000000e+00   0.00000000e+00   9.45370370e-01   1.83240741e+00\n",
      "   0.00000000e+00   0.00000000e+00   5.28703704e-01   1.45370370e+00\n",
      "   1.03055556e+00   4.99074074e-01   0.00000000e+00   6.38888889e-02\n",
      "   1.37777778e+00   7.29629630e-01   1.10370370e+00   4.52777778e-01\n",
      "   0.00000000e+00   9.51851852e-01   0.00000000e+00   7.80555556e-01\n",
      "   0.00000000e+00   1.20185185e+00   7.99074074e-01   9.00000000e-01\n",
      "   3.14814815e-01   0.00000000e+00   0.00000000e+00   0.00000000e+00\n",
      "   2.93518519e-01   4.25925926e-01   2.94444444e-01   2.68518519e-02\n",
      "   5.52777778e-01   4.16666667e-01   0.00000000e+00   0.00000000e+00\n",
      "   4.05555556e-01   5.36111111e-01   0.00000000e+00   0.00000000e+00\n",
      "   2.11111111e-01   4.46296296e-01   3.37962963e-01   2.59259259e-01\n",
      "   0.00000000e+00   9.25925926e-04   5.45370370e-01   5.13888889e-01\n",
      "   3.75000000e-01   1.96296296e-01   0.00000000e+00   5.04629630e-01\n",
      "   9.25925926e-03   2.98148148e-01   0.00000000e+00   4.66666667e-01\n",
      "   3.96296296e-01   5.04629630e-01   8.47222222e-01   0.00000000e+00\n",
      "   0.00000000e+00   0.00000000e+00   3.89814815e-01   4.48148148e-01\n",
      "   3.79629630e-01   0.00000000e+00   5.82407407e-01   4.50925926e-01\n",
      "   0.00000000e+00   0.00000000e+00   1.09629630e+00   1.32129630e+00\n",
      "   0.00000000e+00   0.00000000e+00   4.67592593e-01   8.23148148e-01\n",
      "   7.26851852e-01   5.85185185e-01   2.59259259e-02   6.75925926e-02\n",
      "   9.75000000e-01   6.56481481e-01   7.92592593e-01   3.42592593e-01\n",
      "   1.57407407e-02   7.86111111e-01   4.81481481e-02   4.83333333e-01\n",
      "   2.40740741e-02   7.82407407e-01   5.17592593e-01   5.29629630e-01\n",
      "   1.65833333e+00   0.00000000e+00   0.00000000e+00   0.00000000e+00\n",
      "   1.39259259e+00   8.17592593e-01   8.95370370e-01   0.00000000e+00\n",
      "   1.22500000e+00   1.04166667e+00   0.00000000e+00   0.00000000e+00\n",
      "   1.74444444e+00   3.09259259e+00   0.00000000e+00   0.00000000e+00\n",
      "   7.29629630e-01   1.82129630e+00   1.66296296e+00   1.13703704e+00\n",
      "   0.00000000e+00   4.90740741e-02   1.49074074e+00   1.14537037e+00\n",
      "   1.67129630e+00   7.30555556e-01   0.00000000e+00   1.24814815e+00\n",
      "   0.00000000e+00   9.79629630e-01   0.00000000e+00   1.28981481e+00\n",
      "   9.14814815e-01   1.06018519e+00   9.69444444e-01   0.00000000e+00\n",
      "   0.00000000e+00   0.00000000e+00   7.11111111e-01   7.77777778e-01\n",
      "   7.76851852e-01   0.00000000e+00   1.13055556e+00   5.78703704e-01\n",
      "   0.00000000e+00   0.00000000e+00   1.08333333e+00   1.93425926e+00\n",
      "   0.00000000e+00   0.00000000e+00   5.85185185e-01   1.47407407e+00\n",
      "   1.00185185e+00   5.66666667e-01   0.00000000e+00   3.88888889e-02\n",
      "   1.36666667e+00   8.49074074e-01   1.38518519e+00   6.59259259e-01\n",
      "   0.00000000e+00   1.00833333e+00   0.00000000e+00   9.63888889e-01\n",
      "   0.00000000e+00   1.43611111e+00   8.24074074e-01   9.62037037e-01\n",
      "   4.63888889e-01   0.00000000e+00   0.00000000e+00   0.00000000e+00\n",
      "   2.30555556e-01   4.14814815e-01   3.65740741e-01   1.85185185e-02\n",
      "   4.75925926e-01   4.74074074e-01   4.90740741e-02   2.50000000e-02\n",
      "   4.88888889e-01   6.30555556e-01   3.24074074e-02   0.00000000e+00\n",
      "   2.84259259e-01   6.41666667e-01   4.52777778e-01   3.33333333e-01\n",
      "   2.03703704e-02   2.50000000e-02   4.82407407e-01   3.88888889e-01\n",
      "   4.61111111e-01   2.90740741e-01   0.00000000e+00   4.89814815e-01\n",
      "   2.03703704e-02   4.02777778e-01   0.00000000e+00   5.64814815e-01\n",
      "   4.66666667e-01   5.12962963e-01   7.91666667e-01   0.00000000e+00\n",
      "   0.00000000e+00   0.00000000e+00   4.11111111e-01   4.28703704e-01\n",
      "   3.90740741e-01   4.62962963e-02   5.26851852e-01   4.48148148e-01\n",
      "   2.22222222e-02   0.00000000e+00   9.56481481e-01   1.11296296e+00\n",
      "   5.92592593e-02   5.92592593e-02   5.02777778e-01   8.20370370e-01\n",
      "   7.04629630e-01   4.92592593e-01   2.50000000e-02   6.29629630e-02\n",
      "   9.61111111e-01   7.12037037e-01   9.01851852e-01   4.54629630e-01\n",
      "   3.88888889e-02   8.15740741e-01   3.88888889e-02   5.29629630e-01\n",
      "   2.77777778e-02   7.63888889e-01   5.99074074e-01   5.55555556e-01\n",
      "   1.88703704e+00   0.00000000e+00   0.00000000e+00   0.00000000e+00\n",
      "   1.25370370e+00   9.48148148e-01   9.18518519e-01   0.00000000e+00\n",
      "   9.94444444e-01   9.50925926e-01   0.00000000e+00   0.00000000e+00\n",
      "   1.97685185e+00   3.06203704e+00   1.53703704e-01   1.53703704e-01\n",
      "   7.94444444e-01   2.11111111e+00   1.80277778e+00   1.17314815e+00\n",
      "   1.85185185e-03   3.98148148e-02   1.62962963e+00   1.07500000e+00\n",
      "   1.73796296e+00   8.08333333e-01   0.00000000e+00   1.39166667e+00\n",
      "   0.00000000e+00   1.01481481e+00   0.00000000e+00   1.25833333e+00\n",
      "   1.06388889e+00   1.00833333e+00   9.84259259e-01   0.00000000e+00\n",
      "   0.00000000e+00   0.00000000e+00   6.09259259e-01   7.78703704e-01\n",
      "   7.87962963e-01   0.00000000e+00   1.08240741e+00   8.62962963e-01\n",
      "   0.00000000e+00   0.00000000e+00   1.29629630e+00   2.13518519e+00\n",
      "   1.13888889e-01   2.12962963e-02   4.85185185e-01   1.69907407e+00\n",
      "   1.20648148e+00   6.93518519e-01   0.00000000e+00   2.31481481e-02\n",
      "   1.36018519e+00   9.09259259e-01   1.59537037e+00   6.29629630e-01\n",
      "   0.00000000e+00   1.32037037e+00   0.00000000e+00   9.58333333e-01\n",
      "   0.00000000e+00   1.54907407e+00   7.62037037e-01   8.22222222e-01\n",
      "   5.71296296e-01   0.00000000e+00   0.00000000e+00   0.00000000e+00\n",
      "   4.19444444e-01   9.31481481e-01   8.00000000e-01   8.51851852e-02\n",
      "   1.13148148e+00   7.12962963e-01   6.66666667e-02   4.44444444e-02\n",
      "   8.36111111e-01   9.62037037e-01   5.09259259e-02   2.22222222e-02\n",
      "   4.12037037e-01   1.13148148e+00   6.37962963e-01   3.03703704e-01\n",
      "   2.77777778e-03   1.29629630e-02   7.04629630e-01   5.00000000e-01\n",
      "   6.07407407e-01   3.80555556e-01   0.00000000e+00   4.24074074e-01\n",
      "   1.85185185e-02   4.82407407e-01   0.00000000e+00   7.81481481e-01\n",
      "   5.50925926e-01   6.73148148e-01   7.73148148e-01   0.00000000e+00\n",
      "   0.00000000e+00   0.00000000e+00   4.25925926e-01   3.84259259e-01\n",
      "   5.47222222e-01   8.61111111e-02   5.32407407e-01   4.96296296e-01\n",
      "   2.59259259e-02   0.00000000e+00   9.71296296e-01   9.84259259e-01\n",
      "   0.00000000e+00   0.00000000e+00   3.72222222e-01   7.84259259e-01\n",
      "   8.43518519e-01   5.66666667e-01   2.77777778e-02   2.96296296e-02\n",
      "   7.62962963e-01   5.97222222e-01   8.01851852e-01   4.49074074e-01\n",
      "   3.24074074e-02   6.34259259e-01   3.24074074e-02   4.62037037e-01\n",
      "   0.00000000e+00   7.99074074e-01   4.49074074e-01   5.26851852e-01\n",
      "   1.90000000e+00   0.00000000e+00   0.00000000e+00   0.00000000e+00\n",
      "   1.21944444e+00   9.91666667e-01   8.38888889e-01   0.00000000e+00\n",
      "   1.04259259e+00   9.39814815e-01   0.00000000e+00   0.00000000e+00\n",
      "   1.81759259e+00   2.72222222e+00   0.00000000e+00   0.00000000e+00\n",
      "   9.86111111e-01   1.63611111e+00   1.58796296e+00   1.02037037e+00\n",
      "   0.00000000e+00   3.42592593e-02   1.73518519e+00   9.80555556e-01\n",
      "   1.77870370e+00   6.85185185e-01   0.00000000e+00   1.31388889e+00\n",
      "   0.00000000e+00   9.87962963e-01   0.00000000e+00   1.37407407e+00\n",
      "   8.70370370e-01   8.74074074e-01   9.37037037e-01   0.00000000e+00\n",
      "   0.00000000e+00   0.00000000e+00   6.82407407e-01   8.58333333e-01\n",
      "   8.97222222e-01   0.00000000e+00   1.06203704e+00   6.56481481e-01\n",
      "   0.00000000e+00   0.00000000e+00   1.27592593e+00   2.34351852e+00\n",
      "   0.00000000e+00   0.00000000e+00   5.30555556e-01   1.69722222e+00\n",
      "   1.31203704e+00   5.86111111e-01   0.00000000e+00   1.20370370e-02\n",
      "   1.61759259e+00   7.66666667e-01   2.31851852e+00   5.67592593e-01\n",
      "   0.00000000e+00   1.22962963e+00   0.00000000e+00   8.39814815e-01\n",
      "   0.00000000e+00   1.56296296e+00   6.99074074e-01   9.40740741e-01\n",
      "   9.17592593e-01   0.00000000e+00   0.00000000e+00   0.00000000e+00\n",
      "   6.37962963e-01   1.36111111e+00   1.18055556e+00   3.44444444e-01\n",
      "   1.61574074e+00   9.93518519e-01   1.11111111e-01   5.55555556e-02\n",
      "   8.09259259e-01   9.54629630e-01   5.09259259e-02   0.00000000e+00\n",
      "   4.75925926e-01   1.32037037e+00   7.76851852e-01   3.48148148e-01\n",
      "   0.00000000e+00   2.77777778e-03   8.12962963e-01   6.05555556e-01\n",
      "   7.33333333e-01   4.24074074e-01   0.00000000e+00   5.97222222e-01\n",
      "   3.61111111e-02   4.80555556e-01   0.00000000e+00   7.67592593e-01\n",
      "   5.69444444e-01   1.08425926e+00   5.73148148e-01   0.00000000e+00\n",
      "   0.00000000e+00   0.00000000e+00   4.10185185e-01   3.73148148e-01\n",
      "   4.45370370e-01   3.61111111e-02   3.93518519e-01   3.79629630e-01\n",
      "   0.00000000e+00   0.00000000e+00   6.67592593e-01   7.81481481e-01\n",
      "   0.00000000e+00   0.00000000e+00   3.38888889e-01   6.57407407e-01\n",
      "   6.75000000e-01   4.08333333e-01   0.00000000e+00   9.25925926e-04\n",
      "   6.25000000e-01   6.21296296e-01   4.57407407e-01   3.26851852e-01\n",
      "   2.12962963e-02   5.00925926e-01   3.61111111e-02   4.37037037e-01\n",
      "   0.00000000e+00   6.62037037e-01   3.75000000e-01   5.01851852e-01\n",
      "   1.48888889e+00   0.00000000e+00   0.00000000e+00   0.00000000e+00\n",
      "   8.07407407e-01   7.19444444e-01   5.52777778e-01   0.00000000e+00\n",
      "   8.33333333e-01   6.55555556e-01   0.00000000e+00   0.00000000e+00\n",
      "   1.36481481e+00   2.44166667e+00   0.00000000e+00   0.00000000e+00\n",
      "   7.62037037e-01   1.57500000e+00   1.51388889e+00   1.02870370e+00\n",
      "   0.00000000e+00   2.68518519e-02   1.15648148e+00   1.01203704e+00\n",
      "   1.26388889e+00   4.59259259e-01   0.00000000e+00   1.14259259e+00\n",
      "   0.00000000e+00   8.60185185e-01   0.00000000e+00   1.12870370e+00\n",
      "   7.65740741e-01   8.25925926e-01   8.37037037e-01   0.00000000e+00\n",
      "   0.00000000e+00   0.00000000e+00   6.51851852e-01   8.13888889e-01\n",
      "   7.53703704e-01   0.00000000e+00   9.76851852e-01   5.98148148e-01\n",
      "   0.00000000e+00   0.00000000e+00   1.05277778e+00   1.95277778e+00\n",
      "   0.00000000e+00   0.00000000e+00   5.17592593e-01   1.57314815e+00\n",
      "   1.11296296e+00   5.30555556e-01   0.00000000e+00   2.96296296e-02\n",
      "   1.38148148e+00   9.29629630e-01   1.28148148e+00   5.15740741e-01\n",
      "   0.00000000e+00   1.09444444e+00   0.00000000e+00   7.03703704e-01\n",
      "   0.00000000e+00   1.43518519e+00   7.34259259e-01   8.88888889e-01\n",
      "   5.96296296e-01   0.00000000e+00   0.00000000e+00   0.00000000e+00\n",
      "   5.62037037e-01   1.23796296e+00   1.02870370e+00   1.81481481e-01\n",
      "   1.42685185e+00   9.07407407e-01   9.81481481e-02   4.25925926e-02\n",
      "   8.01851852e-01   8.83333333e-01   4.16666667e-02   0.00000000e+00\n",
      "   3.99074074e-01   1.40740741e+00   5.50925926e-01   3.44444444e-01\n",
      "   0.00000000e+00   9.25925926e-04   7.50925926e-01   3.99074074e-01\n",
      "   6.42592593e-01   4.14814815e-01   0.00000000e+00   4.31481481e-01\n",
      "   1.94444444e-02   3.86111111e-01   0.00000000e+00   8.31481481e-01\n",
      "   4.77777778e-01   9.90740741e-01   3.87962963e-01   0.00000000e+00\n",
      "   0.00000000e+00   0.00000000e+00   2.87037037e-01   2.71296296e-01\n",
      "   2.78703704e-01   3.33333333e-02   3.36111111e-01   3.10185185e-01\n",
      "   0.00000000e+00   0.00000000e+00   5.10185185e-01   7.19444444e-01\n",
      "   0.00000000e+00   0.00000000e+00   3.06481481e-01   5.70370370e-01\n",
      "   5.09259259e-01   3.89814815e-01   0.00000000e+00   0.00000000e+00\n",
      "   5.41666667e-01   3.80555556e-01   4.08333333e-01   2.76851852e-01\n",
      "   0.00000000e+00   3.61111111e-01   0.00000000e+00   2.93518519e-01\n",
      "   0.00000000e+00   6.13888889e-01   3.03703704e-01   4.32407407e-01\n",
      "   1.35555556e+00   0.00000000e+00   0.00000000e+00   0.00000000e+00\n",
      "   7.35185185e-01   6.58333333e-01   6.17592593e-01   0.00000000e+00\n",
      "   8.67592593e-01   5.62037037e-01   0.00000000e+00   0.00000000e+00\n",
      "   1.07314815e+00   2.19351852e+00   0.00000000e+00   0.00000000e+00\n",
      "   6.50000000e-01   1.16111111e+00   1.07314815e+00   8.22222222e-01\n",
      "   0.00000000e+00   3.42592593e-02   1.14722222e+00   8.99074074e-01\n",
      "   9.62037037e-01   4.31481481e-01   0.00000000e+00   9.55555556e-01\n",
      "   0.00000000e+00   7.32407407e-01   0.00000000e+00   9.67592593e-01\n",
      "   5.08333333e-01   7.51851852e-01   7.81481481e-01   0.00000000e+00\n",
      "   0.00000000e+00   0.00000000e+00   4.65740741e-01   6.04629630e-01\n",
      "   6.50000000e-01   0.00000000e+00   8.45370370e-01   4.80555556e-01\n",
      "   0.00000000e+00   0.00000000e+00   9.46296296e-01   1.60833333e+00\n",
      "   0.00000000e+00   0.00000000e+00   4.67592593e-01   9.19444444e-01\n",
      "   6.52777778e-01   5.36111111e-01   0.00000000e+00   1.01851852e-02\n",
      "   1.16481481e+00   6.90740741e-01   9.37962963e-01   4.51851852e-01\n",
      "   0.00000000e+00   9.49074074e-01   0.00000000e+00   5.62962963e-01\n",
      "   0.00000000e+00   1.06203704e+00   5.41666667e-01   9.02777778e-01]\n"
     ]
    }
   ],
   "source": [
    "print Y"
   ]
  },
  {
   "cell_type": "code",
   "execution_count": 21,
   "metadata": {
    "collapsed": false
   },
   "outputs": [
    {
     "ename": "ValueError",
     "evalue": "all the input arrays must have same number of dimensions",
     "output_type": "error",
     "traceback": [
      "\u001b[0;31m---------------------------------------------------------------------------\u001b[0m",
      "\u001b[0;31mValueError\u001b[0m                                Traceback (most recent call last)",
      "\u001b[0;32m<ipython-input-21-48cfc5ea3d9d>\u001b[0m in \u001b[0;36m<module>\u001b[0;34m()\u001b[0m\n\u001b[0;32m----> 1\u001b[0;31m \u001b[0mOutput_array\u001b[0m \u001b[0;34m=\u001b[0m \u001b[0mnp\u001b[0m\u001b[0;34m.\u001b[0m\u001b[0mhstack\u001b[0m\u001b[0;34m(\u001b[0m\u001b[0;34m(\u001b[0m\u001b[0mX\u001b[0m\u001b[0;34m,\u001b[0m\u001b[0mY\u001b[0m\u001b[0;34m.\u001b[0m\u001b[0mtranspose\u001b[0m\u001b[0;34m(\u001b[0m\u001b[0;34m)\u001b[0m\u001b[0;34m)\u001b[0m\u001b[0;34m)\u001b[0m\u001b[0;34m\u001b[0m\u001b[0m\n\u001b[0m",
      "\u001b[0;32m/Users/hongyuanqing/anaconda/lib/python2.7/site-packages/numpy/core/shape_base.pyc\u001b[0m in \u001b[0;36mhstack\u001b[0;34m(tup)\u001b[0m\n\u001b[1;32m    286\u001b[0m         \u001b[0;32mreturn\u001b[0m \u001b[0m_nx\u001b[0m\u001b[0;34m.\u001b[0m\u001b[0mconcatenate\u001b[0m\u001b[0;34m(\u001b[0m\u001b[0marrs\u001b[0m\u001b[0;34m,\u001b[0m \u001b[0;36m0\u001b[0m\u001b[0;34m)\u001b[0m\u001b[0;34m\u001b[0m\u001b[0m\n\u001b[1;32m    287\u001b[0m     \u001b[0;32melse\u001b[0m\u001b[0;34m:\u001b[0m\u001b[0;34m\u001b[0m\u001b[0m\n\u001b[0;32m--> 288\u001b[0;31m         \u001b[0;32mreturn\u001b[0m \u001b[0m_nx\u001b[0m\u001b[0;34m.\u001b[0m\u001b[0mconcatenate\u001b[0m\u001b[0;34m(\u001b[0m\u001b[0marrs\u001b[0m\u001b[0;34m,\u001b[0m \u001b[0;36m1\u001b[0m\u001b[0;34m)\u001b[0m\u001b[0;34m\u001b[0m\u001b[0m\n\u001b[0m\u001b[1;32m    289\u001b[0m \u001b[0;34m\u001b[0m\u001b[0m\n\u001b[1;32m    290\u001b[0m \u001b[0;32mdef\u001b[0m \u001b[0mstack\u001b[0m\u001b[0;34m(\u001b[0m\u001b[0marrays\u001b[0m\u001b[0;34m,\u001b[0m \u001b[0maxis\u001b[0m\u001b[0;34m=\u001b[0m\u001b[0;36m0\u001b[0m\u001b[0;34m)\u001b[0m\u001b[0;34m:\u001b[0m\u001b[0;34m\u001b[0m\u001b[0m\n",
      "\u001b[0;31mValueError\u001b[0m: all the input arrays must have same number of dimensions"
     ]
    }
   ],
   "source": [
    "Output_array = np.hstack((X,Y.transpose()))"
   ]
  },
  {
   "cell_type": "code",
   "execution_count": 24,
   "metadata": {
    "collapsed": false
   },
   "outputs": [
    {
     "name": "stdout",
     "output_type": "stream",
     "text": [
      "[[  0.           0.           0.           0.34444444]\n",
      " [  0.           0.           1.           0.        ]\n",
      " [  0.           0.           2.           0.        ]\n",
      " ..., \n",
      " [  6.           3.          31.           1.06203704]\n",
      " [  6.           3.          32.           0.54166667]\n",
      " [  6.           3.          33.           0.90277778]]\n"
     ]
    }
   ],
   "source": [
    "Output = np.transpose(np.array([X1,X2,X3,Y]))\n",
    "print Output"
   ]
  },
  {
   "cell_type": "code",
   "execution_count": 36,
   "metadata": {
    "collapsed": false
   },
   "outputs": [
    {
     "data": {
      "text/html": [
       "<div>\n",
       "<table border=\"1\" class=\"dataframe\">\n",
       "  <thead>\n",
       "    <tr style=\"text-align: right;\">\n",
       "      <th></th>\n",
       "      <th>Day</th>\n",
       "      <th>Time</th>\n",
       "      <th>PCT</th>\n",
       "      <th>Freq</th>\n",
       "    </tr>\n",
       "  </thead>\n",
       "  <tbody>\n",
       "    <tr>\n",
       "      <th>0</th>\n",
       "      <td>0.0</td>\n",
       "      <td>0.0</td>\n",
       "      <td>0.0</td>\n",
       "      <td>0.344444</td>\n",
       "    </tr>\n",
       "    <tr>\n",
       "      <th>1</th>\n",
       "      <td>0.0</td>\n",
       "      <td>0.0</td>\n",
       "      <td>1.0</td>\n",
       "      <td>0.000000</td>\n",
       "    </tr>\n",
       "    <tr>\n",
       "      <th>2</th>\n",
       "      <td>0.0</td>\n",
       "      <td>0.0</td>\n",
       "      <td>2.0</td>\n",
       "      <td>0.000000</td>\n",
       "    </tr>\n",
       "    <tr>\n",
       "      <th>3</th>\n",
       "      <td>0.0</td>\n",
       "      <td>0.0</td>\n",
       "      <td>3.0</td>\n",
       "      <td>0.000000</td>\n",
       "    </tr>\n",
       "    <tr>\n",
       "      <th>4</th>\n",
       "      <td>0.0</td>\n",
       "      <td>0.0</td>\n",
       "      <td>4.0</td>\n",
       "      <td>0.262963</td>\n",
       "    </tr>\n",
       "  </tbody>\n",
       "</table>\n",
       "</div>"
      ],
      "text/plain": [
       "   Day  Time  PCT      Freq\n",
       "0  0.0   0.0  0.0  0.344444\n",
       "1  0.0   0.0  1.0  0.000000\n",
       "2  0.0   0.0  2.0  0.000000\n",
       "3  0.0   0.0  3.0  0.000000\n",
       "4  0.0   0.0  4.0  0.262963"
      ]
     },
     "execution_count": 36,
     "metadata": {},
     "output_type": "execute_result"
    }
   ],
   "source": [
    "Output_DataFrame = pd.DataFrame(Output)\n",
    "Output_DataFrame.columns = ['Day', 'Time','PCT','Freq']\n",
    "Output_DataFrame.head()"
   ]
  },
  {
   "cell_type": "code",
   "execution_count": 37,
   "metadata": {
    "collapsed": true
   },
   "outputs": [],
   "source": [
    "Output_DataFrame.to_csv('out.csv')"
   ]
  },
  {
   "cell_type": "code",
   "execution_count": null,
   "metadata": {
    "collapsed": true
   },
   "outputs": [],
   "source": [
    "\"0\""
   ]
  }
 ],
 "metadata": {
  "anaconda-cloud": {},
  "kernelspec": {
   "display_name": "Python [Root]",
   "language": "python",
   "name": "Python [Root]"
  },
  "language_info": {
   "codemirror_mode": {
    "name": "ipython",
    "version": 2
   },
   "file_extension": ".py",
   "mimetype": "text/x-python",
   "name": "python",
   "nbconvert_exporter": "python",
   "pygments_lexer": "ipython2",
   "version": "2.7.12"
  }
 },
 "nbformat": 4,
 "nbformat_minor": 2
}
